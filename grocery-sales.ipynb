{
 "cells": [
  {
   "cell_type": "code",
   "execution_count": 1,
   "id": "016beb48",
   "metadata": {
    "_cell_guid": "b1076dfc-b9ad-4769-8c92-a6c4dae69d19",
    "_uuid": "8f2839f25d086af736a60e9eeb907d3b93b6e0e5",
    "execution": {
     "iopub.execute_input": "2025-03-07T15:02:49.098570Z",
     "iopub.status.busy": "2025-03-07T15:02:49.098159Z",
     "iopub.status.idle": "2025-03-07T15:02:50.099072Z",
     "shell.execute_reply": "2025-03-07T15:02:50.097990Z"
    },
    "papermill": {
     "duration": 1.012387,
     "end_time": "2025-03-07T15:02:50.100993",
     "exception": false,
     "start_time": "2025-03-07T15:02:49.088606",
     "status": "completed"
    },
    "tags": []
   },
   "outputs": [
    {
     "name": "stdout",
     "output_type": "stream",
     "text": [
      "/kaggle/input/grocery-sales-dataset/countries.csv\n",
      "/kaggle/input/grocery-sales-dataset/products.csv\n",
      "/kaggle/input/grocery-sales-dataset/categories.csv\n",
      "/kaggle/input/grocery-sales-dataset/cities.csv\n",
      "/kaggle/input/grocery-sales-dataset/employees.csv\n",
      "/kaggle/input/grocery-sales-dataset/sales.csv\n",
      "/kaggle/input/grocery-sales-dataset/customers.csv\n"
     ]
    }
   ],
   "source": [
    "# This Python 3 environment comes with many helpful analytics libraries installed\n",
    "# It is defined by the kaggle/python Docker image: https://github.com/kaggle/docker-python\n",
    "# For example, here's several helpful packages to load\n",
    "\n",
    "import numpy as np # linear algebra\n",
    "import pandas as pd # data processing, CSV file I/O (e.g. pd.read_csv)\n",
    "\n",
    "# Input data files are available in the read-only \"../input/\" directory\n",
    "# For example, running this (by clicking run or pressing Shift+Enter) will list all files under the input directory\n",
    "\n",
    "import os\n",
    "for dirname, _, filenames in os.walk('/kaggle/input'):\n",
    "    for filename in filenames:\n",
    "        print(os.path.join(dirname, filename))\n",
    "\n",
    "# You can write up to 20GB to the current directory (/kaggle/working/) that gets preserved as output when you create a version using \"Save & Run All\" \n",
    "# You can also write temporary files to /kaggle/temp/, but they won't be saved outside of the current session"
   ]
  },
  {
   "cell_type": "markdown",
   "id": "c09d7420",
   "metadata": {
    "papermill": {
     "duration": 0.007653,
     "end_time": "2025-03-07T15:02:50.117104",
     "exception": false,
     "start_time": "2025-03-07T15:02:50.109451",
     "status": "completed"
    },
    "tags": []
   },
   "source": [
    "Use Cases\n",
    "\n",
    "1. Monthly Sales Performance\n",
    "\n",
    "    Objective: Analyze sales performance within the four-month period to identify trends and patterns.\n",
    "    Tasks:\n",
    "        Calculate total sales for each month.\n",
    "        Compare sales performance across different product categories each month.\n",
    "\n",
    "2. Customer Purchase Behavior\n",
    "\n",
    "    Objective: Understand how customers interact with products during the four-month period.\n",
    "    Tasks:\n",
    "        Segment customers based on their purchase frequency and total spend.\n",
    "        Identify repeat customers versus one-time buyers.\n",
    "        Analyze average order value and basket size.\n",
    "\n",
    "3. Salesperson Effectiveness\n",
    "\n",
    "    Objective: Evaluate the performance of sales personnel in driving sales.\n",
    "    Tasks:\n",
    "        Calculate total sales attributed to each salesperson.\n",
    "        Identify top-performing and underperforming sales staff.\n",
    "        Analyze sales trends based on individual salesperson contributions over time.\n"
   ]
  },
  {
   "cell_type": "markdown",
   "id": "3bd58016",
   "metadata": {
    "papermill": {
     "duration": 0.007725,
     "end_time": "2025-03-07T15:02:50.132714",
     "exception": false,
     "start_time": "2025-03-07T15:02:50.124989",
     "status": "completed"
    },
    "tags": []
   },
   "source": [
    "Data Relationships\n",
    "\n",
    "    Sales: Each sale is linked to a Product, Customer, and Employee through their respective IDs. Each sale is linked to a location via the customer.\n",
    "    Customers: Associated with a City and a Country to provide geographic context.\n",
    "    Employees: Manage sales and are uniquely identified by EmployeeID.\n",
    "    Products: Categorized under specific Categories to organize the inventory.\n",
    "    Geography: Cities belong to Countries, offering higher-level geographic segmentation.\n"
   ]
  },
  {
   "cell_type": "code",
   "execution_count": 2,
   "id": "dea002fc",
   "metadata": {
    "execution": {
     "iopub.execute_input": "2025-03-07T15:02:50.150513Z",
     "iopub.status.busy": "2025-03-07T15:02:50.149955Z",
     "iopub.status.idle": "2025-03-07T15:02:53.213891Z",
     "shell.execute_reply": "2025-03-07T15:02:53.212428Z"
    },
    "papermill": {
     "duration": 3.075244,
     "end_time": "2025-03-07T15:02:53.215907",
     "exception": false,
     "start_time": "2025-03-07T15:02:50.140663",
     "status": "completed"
    },
    "tags": []
   },
   "outputs": [],
   "source": [
    "from IPython.display import display\n",
    "\n",
    "import matplotlib.pyplot as plt\n",
    "import seaborn as sns\n",
    "sns.set_theme(style=\"darkgrid\", palette=\"rocket\")\n",
    "\n",
    "import warnings\n",
    "\n",
    "import datetime\n",
    "from datetime import date\n",
    "import plotly.express as px\n",
    "import plotly.io as pio\n",
    "pio.renderers.default = 'iframe'"
   ]
  },
  {
   "cell_type": "markdown",
   "id": "f942b02f",
   "metadata": {
    "papermill": {
     "duration": 0.007593,
     "end_time": "2025-03-07T15:02:53.231643",
     "exception": false,
     "start_time": "2025-03-07T15:02:53.224050",
     "status": "completed"
    },
    "tags": []
   },
   "source": [
    "<img src = 'https://www.googleapis.com/download/storage/v1/b/kaggle-user-content/o/inbox%2F8067701%2Fd49f2fdeb62fe52ff5cb5bfc5f7f217c%2FScreenshot%202025-01-31%20123107.png?generation=1738348489608387&alt=media'>"
   ]
  },
  {
   "cell_type": "markdown",
   "id": "0551a128",
   "metadata": {
    "papermill": {
     "duration": 0.007342,
     "end_time": "2025-03-07T15:02:53.246547",
     "exception": false,
     "start_time": "2025-03-07T15:02:53.239205",
     "status": "completed"
    },
    "tags": []
   },
   "source": [
    "<h2>Data loading/view</h2>"
   ]
  },
  {
   "cell_type": "code",
   "execution_count": 3,
   "id": "aaa0ca8b",
   "metadata": {
    "execution": {
     "iopub.execute_input": "2025-03-07T15:02:53.263148Z",
     "iopub.status.busy": "2025-03-07T15:02:53.262741Z",
     "iopub.status.idle": "2025-03-07T15:03:15.445950Z",
     "shell.execute_reply": "2025-03-07T15:03:15.444886Z"
    },
    "papermill": {
     "duration": 22.193505,
     "end_time": "2025-03-07T15:03:15.447506",
     "exception": false,
     "start_time": "2025-03-07T15:02:53.254001",
     "status": "completed"
    },
    "tags": []
   },
   "outputs": [
    {
     "name": "stdout",
     "output_type": "stream",
     "text": [
      "COUNTRIES\n"
     ]
    },
    {
     "data": {
      "text/html": [
       "<div>\n",
       "<style scoped>\n",
       "    .dataframe tbody tr th:only-of-type {\n",
       "        vertical-align: middle;\n",
       "    }\n",
       "\n",
       "    .dataframe tbody tr th {\n",
       "        vertical-align: top;\n",
       "    }\n",
       "\n",
       "    .dataframe thead th {\n",
       "        text-align: right;\n",
       "    }\n",
       "</style>\n",
       "<table border=\"1\" class=\"dataframe\">\n",
       "  <thead>\n",
       "    <tr style=\"text-align: right;\">\n",
       "      <th></th>\n",
       "      <th>CountryID</th>\n",
       "      <th>CountryName</th>\n",
       "      <th>CountryCode</th>\n",
       "    </tr>\n",
       "  </thead>\n",
       "  <tbody>\n",
       "    <tr>\n",
       "      <th>0</th>\n",
       "      <td>1</td>\n",
       "      <td>Armenia</td>\n",
       "      <td>AN</td>\n",
       "    </tr>\n",
       "    <tr>\n",
       "      <th>1</th>\n",
       "      <td>2</td>\n",
       "      <td>Canada</td>\n",
       "      <td>FO</td>\n",
       "    </tr>\n",
       "    <tr>\n",
       "      <th>2</th>\n",
       "      <td>3</td>\n",
       "      <td>Belize</td>\n",
       "      <td>MK</td>\n",
       "    </tr>\n",
       "  </tbody>\n",
       "</table>\n",
       "</div>"
      ],
      "text/plain": [
       "   CountryID CountryName CountryCode\n",
       "0          1     Armenia          AN\n",
       "1          2      Canada          FO\n",
       "2          3      Belize          MK"
      ]
     },
     "metadata": {},
     "output_type": "display_data"
    },
    {
     "name": "stdout",
     "output_type": "stream",
     "text": [
      "PRODUCTS\n"
     ]
    },
    {
     "data": {
      "text/html": [
       "<div>\n",
       "<style scoped>\n",
       "    .dataframe tbody tr th:only-of-type {\n",
       "        vertical-align: middle;\n",
       "    }\n",
       "\n",
       "    .dataframe tbody tr th {\n",
       "        vertical-align: top;\n",
       "    }\n",
       "\n",
       "    .dataframe thead th {\n",
       "        text-align: right;\n",
       "    }\n",
       "</style>\n",
       "<table border=\"1\" class=\"dataframe\">\n",
       "  <thead>\n",
       "    <tr style=\"text-align: right;\">\n",
       "      <th></th>\n",
       "      <th>ProductID</th>\n",
       "      <th>ProductName</th>\n",
       "      <th>Price</th>\n",
       "      <th>CategoryID</th>\n",
       "      <th>Class</th>\n",
       "      <th>ModifyDate</th>\n",
       "      <th>Resistant</th>\n",
       "      <th>IsAllergic</th>\n",
       "      <th>VitalityDays</th>\n",
       "    </tr>\n",
       "  </thead>\n",
       "  <tbody>\n",
       "    <tr>\n",
       "      <th>0</th>\n",
       "      <td>1</td>\n",
       "      <td>Flour - Whole Wheat</td>\n",
       "      <td>74.2988</td>\n",
       "      <td>3</td>\n",
       "      <td>Medium</td>\n",
       "      <td>2018-02-16 08:21:49.190</td>\n",
       "      <td>Durable</td>\n",
       "      <td>Unknown</td>\n",
       "      <td>0.0</td>\n",
       "    </tr>\n",
       "    <tr>\n",
       "      <th>1</th>\n",
       "      <td>2</td>\n",
       "      <td>Cookie Chocolate Chip With</td>\n",
       "      <td>91.2329</td>\n",
       "      <td>3</td>\n",
       "      <td>Medium</td>\n",
       "      <td>2017-02-12 11:39:10.970</td>\n",
       "      <td>Unknown</td>\n",
       "      <td>Unknown</td>\n",
       "      <td>0.0</td>\n",
       "    </tr>\n",
       "    <tr>\n",
       "      <th>2</th>\n",
       "      <td>3</td>\n",
       "      <td>Onions - Cippolini</td>\n",
       "      <td>9.1379</td>\n",
       "      <td>9</td>\n",
       "      <td>Medium</td>\n",
       "      <td>2018-03-15 08:11:51.560</td>\n",
       "      <td>Weak</td>\n",
       "      <td>False</td>\n",
       "      <td>111.0</td>\n",
       "    </tr>\n",
       "  </tbody>\n",
       "</table>\n",
       "</div>"
      ],
      "text/plain": [
       "   ProductID                 ProductName    Price  CategoryID   Class  \\\n",
       "0          1         Flour - Whole Wheat  74.2988           3  Medium   \n",
       "1          2  Cookie Chocolate Chip With  91.2329           3  Medium   \n",
       "2          3          Onions - Cippolini   9.1379           9  Medium   \n",
       "\n",
       "               ModifyDate Resistant IsAllergic  VitalityDays  \n",
       "0 2018-02-16 08:21:49.190   Durable    Unknown           0.0  \n",
       "1 2017-02-12 11:39:10.970   Unknown    Unknown           0.0  \n",
       "2 2018-03-15 08:11:51.560      Weak      False         111.0  "
      ]
     },
     "metadata": {},
     "output_type": "display_data"
    },
    {
     "name": "stdout",
     "output_type": "stream",
     "text": [
      "CATEGORIES\n"
     ]
    },
    {
     "data": {
      "text/html": [
       "<div>\n",
       "<style scoped>\n",
       "    .dataframe tbody tr th:only-of-type {\n",
       "        vertical-align: middle;\n",
       "    }\n",
       "\n",
       "    .dataframe tbody tr th {\n",
       "        vertical-align: top;\n",
       "    }\n",
       "\n",
       "    .dataframe thead th {\n",
       "        text-align: right;\n",
       "    }\n",
       "</style>\n",
       "<table border=\"1\" class=\"dataframe\">\n",
       "  <thead>\n",
       "    <tr style=\"text-align: right;\">\n",
       "      <th></th>\n",
       "      <th>CategoryID</th>\n",
       "      <th>CategoryName</th>\n",
       "    </tr>\n",
       "  </thead>\n",
       "  <tbody>\n",
       "    <tr>\n",
       "      <th>0</th>\n",
       "      <td>1</td>\n",
       "      <td>Confections</td>\n",
       "    </tr>\n",
       "    <tr>\n",
       "      <th>1</th>\n",
       "      <td>2</td>\n",
       "      <td>Shell fish</td>\n",
       "    </tr>\n",
       "    <tr>\n",
       "      <th>2</th>\n",
       "      <td>3</td>\n",
       "      <td>Cereals</td>\n",
       "    </tr>\n",
       "  </tbody>\n",
       "</table>\n",
       "</div>"
      ],
      "text/plain": [
       "   CategoryID CategoryName\n",
       "0           1  Confections\n",
       "1           2   Shell fish\n",
       "2           3      Cereals"
      ]
     },
     "metadata": {},
     "output_type": "display_data"
    },
    {
     "name": "stdout",
     "output_type": "stream",
     "text": [
      "CITIES\n"
     ]
    },
    {
     "data": {
      "text/html": [
       "<div>\n",
       "<style scoped>\n",
       "    .dataframe tbody tr th:only-of-type {\n",
       "        vertical-align: middle;\n",
       "    }\n",
       "\n",
       "    .dataframe tbody tr th {\n",
       "        vertical-align: top;\n",
       "    }\n",
       "\n",
       "    .dataframe thead th {\n",
       "        text-align: right;\n",
       "    }\n",
       "</style>\n",
       "<table border=\"1\" class=\"dataframe\">\n",
       "  <thead>\n",
       "    <tr style=\"text-align: right;\">\n",
       "      <th></th>\n",
       "      <th>CityID</th>\n",
       "      <th>CityName</th>\n",
       "      <th>Zipcode</th>\n",
       "      <th>CountryID</th>\n",
       "    </tr>\n",
       "  </thead>\n",
       "  <tbody>\n",
       "    <tr>\n",
       "      <th>0</th>\n",
       "      <td>1</td>\n",
       "      <td>Dayton</td>\n",
       "      <td>80563</td>\n",
       "      <td>32</td>\n",
       "    </tr>\n",
       "    <tr>\n",
       "      <th>1</th>\n",
       "      <td>2</td>\n",
       "      <td>Buffalo</td>\n",
       "      <td>17420</td>\n",
       "      <td>32</td>\n",
       "    </tr>\n",
       "    <tr>\n",
       "      <th>2</th>\n",
       "      <td>3</td>\n",
       "      <td>Chicago</td>\n",
       "      <td>44751</td>\n",
       "      <td>32</td>\n",
       "    </tr>\n",
       "  </tbody>\n",
       "</table>\n",
       "</div>"
      ],
      "text/plain": [
       "   CityID CityName  Zipcode  CountryID\n",
       "0       1   Dayton    80563         32\n",
       "1       2  Buffalo    17420         32\n",
       "2       3  Chicago    44751         32"
      ]
     },
     "metadata": {},
     "output_type": "display_data"
    },
    {
     "name": "stdout",
     "output_type": "stream",
     "text": [
      "EMPLOYEES\n"
     ]
    },
    {
     "data": {
      "text/html": [
       "<div>\n",
       "<style scoped>\n",
       "    .dataframe tbody tr th:only-of-type {\n",
       "        vertical-align: middle;\n",
       "    }\n",
       "\n",
       "    .dataframe tbody tr th {\n",
       "        vertical-align: top;\n",
       "    }\n",
       "\n",
       "    .dataframe thead th {\n",
       "        text-align: right;\n",
       "    }\n",
       "</style>\n",
       "<table border=\"1\" class=\"dataframe\">\n",
       "  <thead>\n",
       "    <tr style=\"text-align: right;\">\n",
       "      <th></th>\n",
       "      <th>EmployeeID</th>\n",
       "      <th>FirstName</th>\n",
       "      <th>MiddleInitial</th>\n",
       "      <th>LastName</th>\n",
       "      <th>BirthDate</th>\n",
       "      <th>Gender</th>\n",
       "      <th>CityID</th>\n",
       "      <th>HireDate</th>\n",
       "    </tr>\n",
       "  </thead>\n",
       "  <tbody>\n",
       "    <tr>\n",
       "      <th>0</th>\n",
       "      <td>1</td>\n",
       "      <td>Nicole</td>\n",
       "      <td>T</td>\n",
       "      <td>Fuller</td>\n",
       "      <td>1981-03-07</td>\n",
       "      <td>F</td>\n",
       "      <td>80</td>\n",
       "      <td>2011-06-20 07:15:36.920</td>\n",
       "    </tr>\n",
       "    <tr>\n",
       "      <th>1</th>\n",
       "      <td>2</td>\n",
       "      <td>Christine</td>\n",
       "      <td>W</td>\n",
       "      <td>Palmer</td>\n",
       "      <td>1968-01-25</td>\n",
       "      <td>F</td>\n",
       "      <td>4</td>\n",
       "      <td>2011-04-27 04:07:56.930</td>\n",
       "    </tr>\n",
       "    <tr>\n",
       "      <th>2</th>\n",
       "      <td>3</td>\n",
       "      <td>Pablo</td>\n",
       "      <td>Y</td>\n",
       "      <td>Cline</td>\n",
       "      <td>1963-02-09</td>\n",
       "      <td>M</td>\n",
       "      <td>70</td>\n",
       "      <td>2012-03-30 18:55:23.270</td>\n",
       "    </tr>\n",
       "  </tbody>\n",
       "</table>\n",
       "</div>"
      ],
      "text/plain": [
       "   EmployeeID  FirstName MiddleInitial LastName  BirthDate Gender  CityID  \\\n",
       "0           1     Nicole             T   Fuller 1981-03-07      F      80   \n",
       "1           2  Christine             W   Palmer 1968-01-25      F       4   \n",
       "2           3      Pablo             Y    Cline 1963-02-09      M      70   \n",
       "\n",
       "                 HireDate  \n",
       "0 2011-06-20 07:15:36.920  \n",
       "1 2011-04-27 04:07:56.930  \n",
       "2 2012-03-30 18:55:23.270  "
      ]
     },
     "metadata": {},
     "output_type": "display_data"
    },
    {
     "name": "stdout",
     "output_type": "stream",
     "text": [
      "SALES\n"
     ]
    },
    {
     "data": {
      "text/html": [
       "<div>\n",
       "<style scoped>\n",
       "    .dataframe tbody tr th:only-of-type {\n",
       "        vertical-align: middle;\n",
       "    }\n",
       "\n",
       "    .dataframe tbody tr th {\n",
       "        vertical-align: top;\n",
       "    }\n",
       "\n",
       "    .dataframe thead th {\n",
       "        text-align: right;\n",
       "    }\n",
       "</style>\n",
       "<table border=\"1\" class=\"dataframe\">\n",
       "  <thead>\n",
       "    <tr style=\"text-align: right;\">\n",
       "      <th></th>\n",
       "      <th>SalesID</th>\n",
       "      <th>SalesPersonID</th>\n",
       "      <th>CustomerID</th>\n",
       "      <th>ProductID</th>\n",
       "      <th>Quantity</th>\n",
       "      <th>Discount</th>\n",
       "      <th>TotalPrice</th>\n",
       "      <th>SalesDate</th>\n",
       "      <th>TransactionNumber</th>\n",
       "    </tr>\n",
       "  </thead>\n",
       "  <tbody>\n",
       "    <tr>\n",
       "      <th>0</th>\n",
       "      <td>1</td>\n",
       "      <td>6</td>\n",
       "      <td>27039</td>\n",
       "      <td>381</td>\n",
       "      <td>7</td>\n",
       "      <td>0.0</td>\n",
       "      <td>0.0</td>\n",
       "      <td>2018-02-05 07:38:25.430</td>\n",
       "      <td>FQL4S94E4ME1EZFTG42G</td>\n",
       "    </tr>\n",
       "    <tr>\n",
       "      <th>1</th>\n",
       "      <td>2</td>\n",
       "      <td>16</td>\n",
       "      <td>25011</td>\n",
       "      <td>61</td>\n",
       "      <td>7</td>\n",
       "      <td>0.0</td>\n",
       "      <td>0.0</td>\n",
       "      <td>2018-02-02 16:03:31.150</td>\n",
       "      <td>12UGLX40DJ1A5DTFBHB8</td>\n",
       "    </tr>\n",
       "    <tr>\n",
       "      <th>2</th>\n",
       "      <td>3</td>\n",
       "      <td>13</td>\n",
       "      <td>94024</td>\n",
       "      <td>23</td>\n",
       "      <td>24</td>\n",
       "      <td>0.0</td>\n",
       "      <td>0.0</td>\n",
       "      <td>2018-05-03 19:31:56.880</td>\n",
       "      <td>5DT8RCPL87KI5EORO7B0</td>\n",
       "    </tr>\n",
       "  </tbody>\n",
       "</table>\n",
       "</div>"
      ],
      "text/plain": [
       "   SalesID  SalesPersonID  CustomerID  ProductID  Quantity  Discount  \\\n",
       "0        1              6       27039        381         7       0.0   \n",
       "1        2             16       25011         61         7       0.0   \n",
       "2        3             13       94024         23        24       0.0   \n",
       "\n",
       "   TotalPrice               SalesDate     TransactionNumber  \n",
       "0         0.0 2018-02-05 07:38:25.430  FQL4S94E4ME1EZFTG42G  \n",
       "1         0.0 2018-02-02 16:03:31.150  12UGLX40DJ1A5DTFBHB8  \n",
       "2         0.0 2018-05-03 19:31:56.880  5DT8RCPL87KI5EORO7B0  "
      ]
     },
     "metadata": {},
     "output_type": "display_data"
    },
    {
     "name": "stdout",
     "output_type": "stream",
     "text": [
      "CUSTOMERS\n"
     ]
    },
    {
     "data": {
      "text/html": [
       "<div>\n",
       "<style scoped>\n",
       "    .dataframe tbody tr th:only-of-type {\n",
       "        vertical-align: middle;\n",
       "    }\n",
       "\n",
       "    .dataframe tbody tr th {\n",
       "        vertical-align: top;\n",
       "    }\n",
       "\n",
       "    .dataframe thead th {\n",
       "        text-align: right;\n",
       "    }\n",
       "</style>\n",
       "<table border=\"1\" class=\"dataframe\">\n",
       "  <thead>\n",
       "    <tr style=\"text-align: right;\">\n",
       "      <th></th>\n",
       "      <th>CustomerID</th>\n",
       "      <th>FirstName</th>\n",
       "      <th>MiddleInitial</th>\n",
       "      <th>LastName</th>\n",
       "      <th>CityID</th>\n",
       "      <th>Address</th>\n",
       "    </tr>\n",
       "  </thead>\n",
       "  <tbody>\n",
       "    <tr>\n",
       "      <th>0</th>\n",
       "      <td>1</td>\n",
       "      <td>Stefanie</td>\n",
       "      <td>Y</td>\n",
       "      <td>Frye</td>\n",
       "      <td>79</td>\n",
       "      <td>97 Oak Avenue</td>\n",
       "    </tr>\n",
       "    <tr>\n",
       "      <th>1</th>\n",
       "      <td>2</td>\n",
       "      <td>Sandy</td>\n",
       "      <td>T</td>\n",
       "      <td>Kirby</td>\n",
       "      <td>96</td>\n",
       "      <td>52 White First Freeway</td>\n",
       "    </tr>\n",
       "    <tr>\n",
       "      <th>2</th>\n",
       "      <td>3</td>\n",
       "      <td>Lee</td>\n",
       "      <td>T</td>\n",
       "      <td>Zhang</td>\n",
       "      <td>55</td>\n",
       "      <td>921 White Fabien Avenue</td>\n",
       "    </tr>\n",
       "  </tbody>\n",
       "</table>\n",
       "</div>"
      ],
      "text/plain": [
       "   CustomerID FirstName MiddleInitial LastName  CityID  \\\n",
       "0           1  Stefanie             Y     Frye      79   \n",
       "1           2     Sandy             T    Kirby      96   \n",
       "2           3       Lee             T    Zhang      55   \n",
       "\n",
       "                   Address  \n",
       "0            97 Oak Avenue  \n",
       "1   52 White First Freeway  \n",
       "2  921 White Fabien Avenue  "
      ]
     },
     "metadata": {},
     "output_type": "display_data"
    }
   ],
   "source": [
    "countries = pd.read_csv('/kaggle/input/grocery-sales-dataset/countries.csv')\n",
    "products = pd.read_csv('/kaggle/input/grocery-sales-dataset/products.csv', parse_dates = ['ModifyDate'])\n",
    "categories = pd.read_csv('/kaggle/input/grocery-sales-dataset/categories.csv')\n",
    "cities = pd.read_csv('/kaggle/input/grocery-sales-dataset/cities.csv')\n",
    "employees = pd.read_csv('/kaggle/input/grocery-sales-dataset/employees.csv', parse_dates = ['BirthDate', 'HireDate'])\n",
    "sales = pd.read_csv('/kaggle/input/grocery-sales-dataset/sales.csv', parse_dates = ['SalesDate'])\n",
    "customers = pd.read_csv('/kaggle/input/grocery-sales-dataset/customers.csv')\n",
    "\n",
    "df_dict = {'countries' : countries, 'products' : products, 'categories' : categories,\n",
    "           'cities' : cities, 'employees' : employees, 'sales' : sales, 'customers' : customers}\n",
    "\n",
    "for key, df in df_dict.items():\n",
    "    print(key.upper())\n",
    "    display(df.head(3))"
   ]
  },
  {
   "cell_type": "code",
   "execution_count": 4,
   "id": "7e34859f",
   "metadata": {
    "execution": {
     "iopub.execute_input": "2025-03-07T15:03:15.468000Z",
     "iopub.status.busy": "2025-03-07T15:03:15.467651Z",
     "iopub.status.idle": "2025-03-07T15:03:15.547962Z",
     "shell.execute_reply": "2025-03-07T15:03:15.546296Z"
    },
    "papermill": {
     "duration": 0.092521,
     "end_time": "2025-03-07T15:03:15.549908",
     "exception": false,
     "start_time": "2025-03-07T15:03:15.457387",
     "status": "completed"
    },
    "tags": []
   },
   "outputs": [
    {
     "name": "stdout",
     "output_type": "stream",
     "text": [
      "COUNTRIES\n",
      "<class 'pandas.core.frame.DataFrame'>\n",
      "RangeIndex: 206 entries, 0 to 205\n",
      "Data columns (total 3 columns):\n",
      " #   Column       Non-Null Count  Dtype \n",
      "---  ------       --------------  ----- \n",
      " 0   CountryID    206 non-null    int64 \n",
      " 1   CountryName  206 non-null    object\n",
      " 2   CountryCode  205 non-null    object\n",
      "dtypes: int64(1), object(2)\n",
      "memory usage: 5.0+ KB\n",
      "\n",
      "\n",
      "PRODUCTS\n",
      "<class 'pandas.core.frame.DataFrame'>\n",
      "RangeIndex: 452 entries, 0 to 451\n",
      "Data columns (total 9 columns):\n",
      " #   Column        Non-Null Count  Dtype         \n",
      "---  ------        --------------  -----         \n",
      " 0   ProductID     452 non-null    int64         \n",
      " 1   ProductName   452 non-null    object        \n",
      " 2   Price         452 non-null    float64       \n",
      " 3   CategoryID    452 non-null    int64         \n",
      " 4   Class         452 non-null    object        \n",
      " 5   ModifyDate    452 non-null    datetime64[ns]\n",
      " 6   Resistant     452 non-null    object        \n",
      " 7   IsAllergic    452 non-null    object        \n",
      " 8   VitalityDays  452 non-null    float64       \n",
      "dtypes: datetime64[ns](1), float64(2), int64(2), object(4)\n",
      "memory usage: 31.9+ KB\n",
      "\n",
      "\n",
      "CATEGORIES\n",
      "<class 'pandas.core.frame.DataFrame'>\n",
      "RangeIndex: 11 entries, 0 to 10\n",
      "Data columns (total 2 columns):\n",
      " #   Column        Non-Null Count  Dtype \n",
      "---  ------        --------------  ----- \n",
      " 0   CategoryID    11 non-null     int64 \n",
      " 1   CategoryName  11 non-null     object\n",
      "dtypes: int64(1), object(1)\n",
      "memory usage: 304.0+ bytes\n",
      "\n",
      "\n",
      "CITIES\n",
      "<class 'pandas.core.frame.DataFrame'>\n",
      "RangeIndex: 96 entries, 0 to 95\n",
      "Data columns (total 4 columns):\n",
      " #   Column     Non-Null Count  Dtype \n",
      "---  ------     --------------  ----- \n",
      " 0   CityID     96 non-null     int64 \n",
      " 1   CityName   96 non-null     object\n",
      " 2   Zipcode    96 non-null     int64 \n",
      " 3   CountryID  96 non-null     int64 \n",
      "dtypes: int64(3), object(1)\n",
      "memory usage: 3.1+ KB\n",
      "\n",
      "\n",
      "EMPLOYEES\n",
      "<class 'pandas.core.frame.DataFrame'>\n",
      "RangeIndex: 23 entries, 0 to 22\n",
      "Data columns (total 8 columns):\n",
      " #   Column         Non-Null Count  Dtype         \n",
      "---  ------         --------------  -----         \n",
      " 0   EmployeeID     23 non-null     int64         \n",
      " 1   FirstName      23 non-null     object        \n",
      " 2   MiddleInitial  23 non-null     object        \n",
      " 3   LastName       23 non-null     object        \n",
      " 4   BirthDate      23 non-null     datetime64[ns]\n",
      " 5   Gender         23 non-null     object        \n",
      " 6   CityID         23 non-null     int64         \n",
      " 7   HireDate       23 non-null     datetime64[ns]\n",
      "dtypes: datetime64[ns](2), int64(2), object(4)\n",
      "memory usage: 1.6+ KB\n",
      "\n",
      "\n",
      "SALES\n",
      "<class 'pandas.core.frame.DataFrame'>\n",
      "RangeIndex: 6758125 entries, 0 to 6758124\n",
      "Data columns (total 9 columns):\n",
      " #   Column             Dtype         \n",
      "---  ------             -----         \n",
      " 0   SalesID            int64         \n",
      " 1   SalesPersonID      int64         \n",
      " 2   CustomerID         int64         \n",
      " 3   ProductID          int64         \n",
      " 4   Quantity           int64         \n",
      " 5   Discount           float64       \n",
      " 6   TotalPrice         float64       \n",
      " 7   SalesDate          datetime64[ns]\n",
      " 8   TransactionNumber  object        \n",
      "dtypes: datetime64[ns](1), float64(2), int64(5), object(1)\n",
      "memory usage: 464.0+ MB\n",
      "\n",
      "\n",
      "CUSTOMERS\n",
      "<class 'pandas.core.frame.DataFrame'>\n",
      "RangeIndex: 98759 entries, 0 to 98758\n",
      "Data columns (total 6 columns):\n",
      " #   Column         Non-Null Count  Dtype \n",
      "---  ------         --------------  ----- \n",
      " 0   CustomerID     98759 non-null  int64 \n",
      " 1   FirstName      98759 non-null  object\n",
      " 2   MiddleInitial  97782 non-null  object\n",
      " 3   LastName       98759 non-null  object\n",
      " 4   CityID         98759 non-null  int64 \n",
      " 5   Address        98759 non-null  object\n",
      "dtypes: int64(2), object(4)\n",
      "memory usage: 4.5+ MB\n",
      "\n",
      "\n"
     ]
    }
   ],
   "source": [
    "for key, df in df_dict.items():\n",
    "    print(key.upper())\n",
    "    df.info()\n",
    "    print('\\n')"
   ]
  },
  {
   "cell_type": "markdown",
   "id": "413fb31c",
   "metadata": {
    "papermill": {
     "duration": 0.009201,
     "end_time": "2025-03-07T15:03:15.568985",
     "exception": false,
     "start_time": "2025-03-07T15:03:15.559784",
     "status": "completed"
    },
    "tags": []
   },
   "source": [
    "Let's check the presence of missing values:"
   ]
  },
  {
   "cell_type": "code",
   "execution_count": 5,
   "id": "b9bf6f0a",
   "metadata": {
    "execution": {
     "iopub.execute_input": "2025-03-07T15:03:15.589905Z",
     "iopub.status.busy": "2025-03-07T15:03:15.589493Z",
     "iopub.status.idle": "2025-03-07T15:03:16.238864Z",
     "shell.execute_reply": "2025-03-07T15:03:16.237853Z"
    },
    "papermill": {
     "duration": 0.662373,
     "end_time": "2025-03-07T15:03:16.240452",
     "exception": false,
     "start_time": "2025-03-07T15:03:15.578079",
     "status": "completed"
    },
    "tags": []
   },
   "outputs": [
    {
     "name": "stdout",
     "output_type": "stream",
     "text": [
      "COUNTRIES\n"
     ]
    },
    {
     "data": {
      "text/html": [
       "<style type=\"text/css\">\n",
       "#T_8d380_row2_col0, #T_8d380_row2_col1 {\n",
       "  background-color: red;\n",
       "}\n",
       "</style>\n",
       "<table id=\"T_8d380\">\n",
       "  <thead>\n",
       "    <tr>\n",
       "      <th class=\"blank level0\" >&nbsp;</th>\n",
       "      <th id=\"T_8d380_level0_col0\" class=\"col_heading level0 col0\" >Columns</th>\n",
       "      <th id=\"T_8d380_level0_col1\" class=\"col_heading level0 col1\" >Nan_perc</th>\n",
       "    </tr>\n",
       "  </thead>\n",
       "  <tbody>\n",
       "    <tr>\n",
       "      <th id=\"T_8d380_level0_row0\" class=\"row_heading level0 row0\" >0</th>\n",
       "      <td id=\"T_8d380_row0_col0\" class=\"data row0 col0\" >CountryID</td>\n",
       "      <td id=\"T_8d380_row0_col1\" class=\"data row0 col1\" >0.000000</td>\n",
       "    </tr>\n",
       "    <tr>\n",
       "      <th id=\"T_8d380_level0_row1\" class=\"row_heading level0 row1\" >1</th>\n",
       "      <td id=\"T_8d380_row1_col0\" class=\"data row1 col0\" >CountryName</td>\n",
       "      <td id=\"T_8d380_row1_col1\" class=\"data row1 col1\" >0.000000</td>\n",
       "    </tr>\n",
       "    <tr>\n",
       "      <th id=\"T_8d380_level0_row2\" class=\"row_heading level0 row2\" >2</th>\n",
       "      <td id=\"T_8d380_row2_col0\" class=\"data row2 col0\" >CountryCode</td>\n",
       "      <td id=\"T_8d380_row2_col1\" class=\"data row2 col1\" >0.490000</td>\n",
       "    </tr>\n",
       "  </tbody>\n",
       "</table>\n"
      ],
      "text/plain": [
       "<pandas.io.formats.style.Styler at 0x78fe0937d2a0>"
      ]
     },
     "metadata": {},
     "output_type": "display_data"
    },
    {
     "name": "stdout",
     "output_type": "stream",
     "text": [
      "\n",
      " ------------------------------ \n",
      "\n",
      "PRODUCTS\n"
     ]
    },
    {
     "data": {
      "text/html": [
       "<style type=\"text/css\">\n",
       "</style>\n",
       "<table id=\"T_08c4d\">\n",
       "  <thead>\n",
       "    <tr>\n",
       "      <th class=\"blank level0\" >&nbsp;</th>\n",
       "      <th id=\"T_08c4d_level0_col0\" class=\"col_heading level0 col0\" >Columns</th>\n",
       "      <th id=\"T_08c4d_level0_col1\" class=\"col_heading level0 col1\" >Nan_perc</th>\n",
       "    </tr>\n",
       "  </thead>\n",
       "  <tbody>\n",
       "    <tr>\n",
       "      <th id=\"T_08c4d_level0_row0\" class=\"row_heading level0 row0\" >0</th>\n",
       "      <td id=\"T_08c4d_row0_col0\" class=\"data row0 col0\" >ProductID</td>\n",
       "      <td id=\"T_08c4d_row0_col1\" class=\"data row0 col1\" >0.000000</td>\n",
       "    </tr>\n",
       "    <tr>\n",
       "      <th id=\"T_08c4d_level0_row1\" class=\"row_heading level0 row1\" >1</th>\n",
       "      <td id=\"T_08c4d_row1_col0\" class=\"data row1 col0\" >ProductName</td>\n",
       "      <td id=\"T_08c4d_row1_col1\" class=\"data row1 col1\" >0.000000</td>\n",
       "    </tr>\n",
       "    <tr>\n",
       "      <th id=\"T_08c4d_level0_row2\" class=\"row_heading level0 row2\" >2</th>\n",
       "      <td id=\"T_08c4d_row2_col0\" class=\"data row2 col0\" >Price</td>\n",
       "      <td id=\"T_08c4d_row2_col1\" class=\"data row2 col1\" >0.000000</td>\n",
       "    </tr>\n",
       "    <tr>\n",
       "      <th id=\"T_08c4d_level0_row3\" class=\"row_heading level0 row3\" >3</th>\n",
       "      <td id=\"T_08c4d_row3_col0\" class=\"data row3 col0\" >CategoryID</td>\n",
       "      <td id=\"T_08c4d_row3_col1\" class=\"data row3 col1\" >0.000000</td>\n",
       "    </tr>\n",
       "    <tr>\n",
       "      <th id=\"T_08c4d_level0_row4\" class=\"row_heading level0 row4\" >4</th>\n",
       "      <td id=\"T_08c4d_row4_col0\" class=\"data row4 col0\" >Class</td>\n",
       "      <td id=\"T_08c4d_row4_col1\" class=\"data row4 col1\" >0.000000</td>\n",
       "    </tr>\n",
       "    <tr>\n",
       "      <th id=\"T_08c4d_level0_row5\" class=\"row_heading level0 row5\" >5</th>\n",
       "      <td id=\"T_08c4d_row5_col0\" class=\"data row5 col0\" >ModifyDate</td>\n",
       "      <td id=\"T_08c4d_row5_col1\" class=\"data row5 col1\" >0.000000</td>\n",
       "    </tr>\n",
       "    <tr>\n",
       "      <th id=\"T_08c4d_level0_row6\" class=\"row_heading level0 row6\" >6</th>\n",
       "      <td id=\"T_08c4d_row6_col0\" class=\"data row6 col0\" >Resistant</td>\n",
       "      <td id=\"T_08c4d_row6_col1\" class=\"data row6 col1\" >0.000000</td>\n",
       "    </tr>\n",
       "    <tr>\n",
       "      <th id=\"T_08c4d_level0_row7\" class=\"row_heading level0 row7\" >7</th>\n",
       "      <td id=\"T_08c4d_row7_col0\" class=\"data row7 col0\" >IsAllergic</td>\n",
       "      <td id=\"T_08c4d_row7_col1\" class=\"data row7 col1\" >0.000000</td>\n",
       "    </tr>\n",
       "    <tr>\n",
       "      <th id=\"T_08c4d_level0_row8\" class=\"row_heading level0 row8\" >8</th>\n",
       "      <td id=\"T_08c4d_row8_col0\" class=\"data row8 col0\" >VitalityDays</td>\n",
       "      <td id=\"T_08c4d_row8_col1\" class=\"data row8 col1\" >0.000000</td>\n",
       "    </tr>\n",
       "  </tbody>\n",
       "</table>\n"
      ],
      "text/plain": [
       "<pandas.io.formats.style.Styler at 0x78fe3ca87640>"
      ]
     },
     "metadata": {},
     "output_type": "display_data"
    },
    {
     "name": "stdout",
     "output_type": "stream",
     "text": [
      "\n",
      " ------------------------------ \n",
      "\n",
      "CATEGORIES\n"
     ]
    },
    {
     "data": {
      "text/html": [
       "<style type=\"text/css\">\n",
       "</style>\n",
       "<table id=\"T_ebc43\">\n",
       "  <thead>\n",
       "    <tr>\n",
       "      <th class=\"blank level0\" >&nbsp;</th>\n",
       "      <th id=\"T_ebc43_level0_col0\" class=\"col_heading level0 col0\" >Columns</th>\n",
       "      <th id=\"T_ebc43_level0_col1\" class=\"col_heading level0 col1\" >Nan_perc</th>\n",
       "    </tr>\n",
       "  </thead>\n",
       "  <tbody>\n",
       "    <tr>\n",
       "      <th id=\"T_ebc43_level0_row0\" class=\"row_heading level0 row0\" >0</th>\n",
       "      <td id=\"T_ebc43_row0_col0\" class=\"data row0 col0\" >CategoryID</td>\n",
       "      <td id=\"T_ebc43_row0_col1\" class=\"data row0 col1\" >0.000000</td>\n",
       "    </tr>\n",
       "    <tr>\n",
       "      <th id=\"T_ebc43_level0_row1\" class=\"row_heading level0 row1\" >1</th>\n",
       "      <td id=\"T_ebc43_row1_col0\" class=\"data row1 col0\" >CategoryName</td>\n",
       "      <td id=\"T_ebc43_row1_col1\" class=\"data row1 col1\" >0.000000</td>\n",
       "    </tr>\n",
       "  </tbody>\n",
       "</table>\n"
      ],
      "text/plain": [
       "<pandas.io.formats.style.Styler at 0x78fe3ca87640>"
      ]
     },
     "metadata": {},
     "output_type": "display_data"
    },
    {
     "name": "stdout",
     "output_type": "stream",
     "text": [
      "\n",
      " ------------------------------ \n",
      "\n",
      "CITIES\n"
     ]
    },
    {
     "data": {
      "text/html": [
       "<style type=\"text/css\">\n",
       "</style>\n",
       "<table id=\"T_2d7fe\">\n",
       "  <thead>\n",
       "    <tr>\n",
       "      <th class=\"blank level0\" >&nbsp;</th>\n",
       "      <th id=\"T_2d7fe_level0_col0\" class=\"col_heading level0 col0\" >Columns</th>\n",
       "      <th id=\"T_2d7fe_level0_col1\" class=\"col_heading level0 col1\" >Nan_perc</th>\n",
       "    </tr>\n",
       "  </thead>\n",
       "  <tbody>\n",
       "    <tr>\n",
       "      <th id=\"T_2d7fe_level0_row0\" class=\"row_heading level0 row0\" >0</th>\n",
       "      <td id=\"T_2d7fe_row0_col0\" class=\"data row0 col0\" >CityID</td>\n",
       "      <td id=\"T_2d7fe_row0_col1\" class=\"data row0 col1\" >0.000000</td>\n",
       "    </tr>\n",
       "    <tr>\n",
       "      <th id=\"T_2d7fe_level0_row1\" class=\"row_heading level0 row1\" >1</th>\n",
       "      <td id=\"T_2d7fe_row1_col0\" class=\"data row1 col0\" >CityName</td>\n",
       "      <td id=\"T_2d7fe_row1_col1\" class=\"data row1 col1\" >0.000000</td>\n",
       "    </tr>\n",
       "    <tr>\n",
       "      <th id=\"T_2d7fe_level0_row2\" class=\"row_heading level0 row2\" >2</th>\n",
       "      <td id=\"T_2d7fe_row2_col0\" class=\"data row2 col0\" >Zipcode</td>\n",
       "      <td id=\"T_2d7fe_row2_col1\" class=\"data row2 col1\" >0.000000</td>\n",
       "    </tr>\n",
       "    <tr>\n",
       "      <th id=\"T_2d7fe_level0_row3\" class=\"row_heading level0 row3\" >3</th>\n",
       "      <td id=\"T_2d7fe_row3_col0\" class=\"data row3 col0\" >CountryID</td>\n",
       "      <td id=\"T_2d7fe_row3_col1\" class=\"data row3 col1\" >0.000000</td>\n",
       "    </tr>\n",
       "  </tbody>\n",
       "</table>\n"
      ],
      "text/plain": [
       "<pandas.io.formats.style.Styler at 0x78fe3ca87f70>"
      ]
     },
     "metadata": {},
     "output_type": "display_data"
    },
    {
     "name": "stdout",
     "output_type": "stream",
     "text": [
      "\n",
      " ------------------------------ \n",
      "\n",
      "EMPLOYEES\n"
     ]
    },
    {
     "data": {
      "text/html": [
       "<style type=\"text/css\">\n",
       "</style>\n",
       "<table id=\"T_c0306\">\n",
       "  <thead>\n",
       "    <tr>\n",
       "      <th class=\"blank level0\" >&nbsp;</th>\n",
       "      <th id=\"T_c0306_level0_col0\" class=\"col_heading level0 col0\" >Columns</th>\n",
       "      <th id=\"T_c0306_level0_col1\" class=\"col_heading level0 col1\" >Nan_perc</th>\n",
       "    </tr>\n",
       "  </thead>\n",
       "  <tbody>\n",
       "    <tr>\n",
       "      <th id=\"T_c0306_level0_row0\" class=\"row_heading level0 row0\" >0</th>\n",
       "      <td id=\"T_c0306_row0_col0\" class=\"data row0 col0\" >EmployeeID</td>\n",
       "      <td id=\"T_c0306_row0_col1\" class=\"data row0 col1\" >0.000000</td>\n",
       "    </tr>\n",
       "    <tr>\n",
       "      <th id=\"T_c0306_level0_row1\" class=\"row_heading level0 row1\" >1</th>\n",
       "      <td id=\"T_c0306_row1_col0\" class=\"data row1 col0\" >FirstName</td>\n",
       "      <td id=\"T_c0306_row1_col1\" class=\"data row1 col1\" >0.000000</td>\n",
       "    </tr>\n",
       "    <tr>\n",
       "      <th id=\"T_c0306_level0_row2\" class=\"row_heading level0 row2\" >2</th>\n",
       "      <td id=\"T_c0306_row2_col0\" class=\"data row2 col0\" >MiddleInitial</td>\n",
       "      <td id=\"T_c0306_row2_col1\" class=\"data row2 col1\" >0.000000</td>\n",
       "    </tr>\n",
       "    <tr>\n",
       "      <th id=\"T_c0306_level0_row3\" class=\"row_heading level0 row3\" >3</th>\n",
       "      <td id=\"T_c0306_row3_col0\" class=\"data row3 col0\" >LastName</td>\n",
       "      <td id=\"T_c0306_row3_col1\" class=\"data row3 col1\" >0.000000</td>\n",
       "    </tr>\n",
       "    <tr>\n",
       "      <th id=\"T_c0306_level0_row4\" class=\"row_heading level0 row4\" >4</th>\n",
       "      <td id=\"T_c0306_row4_col0\" class=\"data row4 col0\" >BirthDate</td>\n",
       "      <td id=\"T_c0306_row4_col1\" class=\"data row4 col1\" >0.000000</td>\n",
       "    </tr>\n",
       "    <tr>\n",
       "      <th id=\"T_c0306_level0_row5\" class=\"row_heading level0 row5\" >5</th>\n",
       "      <td id=\"T_c0306_row5_col0\" class=\"data row5 col0\" >Gender</td>\n",
       "      <td id=\"T_c0306_row5_col1\" class=\"data row5 col1\" >0.000000</td>\n",
       "    </tr>\n",
       "    <tr>\n",
       "      <th id=\"T_c0306_level0_row6\" class=\"row_heading level0 row6\" >6</th>\n",
       "      <td id=\"T_c0306_row6_col0\" class=\"data row6 col0\" >CityID</td>\n",
       "      <td id=\"T_c0306_row6_col1\" class=\"data row6 col1\" >0.000000</td>\n",
       "    </tr>\n",
       "    <tr>\n",
       "      <th id=\"T_c0306_level0_row7\" class=\"row_heading level0 row7\" >7</th>\n",
       "      <td id=\"T_c0306_row7_col0\" class=\"data row7 col0\" >HireDate</td>\n",
       "      <td id=\"T_c0306_row7_col1\" class=\"data row7 col1\" >0.000000</td>\n",
       "    </tr>\n",
       "  </tbody>\n",
       "</table>\n"
      ],
      "text/plain": [
       "<pandas.io.formats.style.Styler at 0x78fe3ca85ab0>"
      ]
     },
     "metadata": {},
     "output_type": "display_data"
    },
    {
     "name": "stdout",
     "output_type": "stream",
     "text": [
      "\n",
      " ------------------------------ \n",
      "\n",
      "SALES\n"
     ]
    },
    {
     "data": {
      "text/html": [
       "<style type=\"text/css\">\n",
       "#T_bafb9_row7_col0, #T_bafb9_row7_col1 {\n",
       "  background-color: red;\n",
       "}\n",
       "</style>\n",
       "<table id=\"T_bafb9\">\n",
       "  <thead>\n",
       "    <tr>\n",
       "      <th class=\"blank level0\" >&nbsp;</th>\n",
       "      <th id=\"T_bafb9_level0_col0\" class=\"col_heading level0 col0\" >Columns</th>\n",
       "      <th id=\"T_bafb9_level0_col1\" class=\"col_heading level0 col1\" >Nan_perc</th>\n",
       "    </tr>\n",
       "  </thead>\n",
       "  <tbody>\n",
       "    <tr>\n",
       "      <th id=\"T_bafb9_level0_row0\" class=\"row_heading level0 row0\" >0</th>\n",
       "      <td id=\"T_bafb9_row0_col0\" class=\"data row0 col0\" >SalesID</td>\n",
       "      <td id=\"T_bafb9_row0_col1\" class=\"data row0 col1\" >0.000000</td>\n",
       "    </tr>\n",
       "    <tr>\n",
       "      <th id=\"T_bafb9_level0_row1\" class=\"row_heading level0 row1\" >1</th>\n",
       "      <td id=\"T_bafb9_row1_col0\" class=\"data row1 col0\" >SalesPersonID</td>\n",
       "      <td id=\"T_bafb9_row1_col1\" class=\"data row1 col1\" >0.000000</td>\n",
       "    </tr>\n",
       "    <tr>\n",
       "      <th id=\"T_bafb9_level0_row2\" class=\"row_heading level0 row2\" >2</th>\n",
       "      <td id=\"T_bafb9_row2_col0\" class=\"data row2 col0\" >CustomerID</td>\n",
       "      <td id=\"T_bafb9_row2_col1\" class=\"data row2 col1\" >0.000000</td>\n",
       "    </tr>\n",
       "    <tr>\n",
       "      <th id=\"T_bafb9_level0_row3\" class=\"row_heading level0 row3\" >3</th>\n",
       "      <td id=\"T_bafb9_row3_col0\" class=\"data row3 col0\" >ProductID</td>\n",
       "      <td id=\"T_bafb9_row3_col1\" class=\"data row3 col1\" >0.000000</td>\n",
       "    </tr>\n",
       "    <tr>\n",
       "      <th id=\"T_bafb9_level0_row4\" class=\"row_heading level0 row4\" >4</th>\n",
       "      <td id=\"T_bafb9_row4_col0\" class=\"data row4 col0\" >Quantity</td>\n",
       "      <td id=\"T_bafb9_row4_col1\" class=\"data row4 col1\" >0.000000</td>\n",
       "    </tr>\n",
       "    <tr>\n",
       "      <th id=\"T_bafb9_level0_row5\" class=\"row_heading level0 row5\" >5</th>\n",
       "      <td id=\"T_bafb9_row5_col0\" class=\"data row5 col0\" >Discount</td>\n",
       "      <td id=\"T_bafb9_row5_col1\" class=\"data row5 col1\" >0.000000</td>\n",
       "    </tr>\n",
       "    <tr>\n",
       "      <th id=\"T_bafb9_level0_row6\" class=\"row_heading level0 row6\" >6</th>\n",
       "      <td id=\"T_bafb9_row6_col0\" class=\"data row6 col0\" >TotalPrice</td>\n",
       "      <td id=\"T_bafb9_row6_col1\" class=\"data row6 col1\" >0.000000</td>\n",
       "    </tr>\n",
       "    <tr>\n",
       "      <th id=\"T_bafb9_level0_row7\" class=\"row_heading level0 row7\" >7</th>\n",
       "      <td id=\"T_bafb9_row7_col0\" class=\"data row7 col0\" >SalesDate</td>\n",
       "      <td id=\"T_bafb9_row7_col1\" class=\"data row7 col1\" >1.000000</td>\n",
       "    </tr>\n",
       "    <tr>\n",
       "      <th id=\"T_bafb9_level0_row8\" class=\"row_heading level0 row8\" >8</th>\n",
       "      <td id=\"T_bafb9_row8_col0\" class=\"data row8 col0\" >TransactionNumber</td>\n",
       "      <td id=\"T_bafb9_row8_col1\" class=\"data row8 col1\" >0.000000</td>\n",
       "    </tr>\n",
       "  </tbody>\n",
       "</table>\n"
      ],
      "text/plain": [
       "<pandas.io.formats.style.Styler at 0x78fe3ca87a00>"
      ]
     },
     "metadata": {},
     "output_type": "display_data"
    },
    {
     "name": "stdout",
     "output_type": "stream",
     "text": [
      "\n",
      " ------------------------------ \n",
      "\n",
      "CUSTOMERS\n"
     ]
    },
    {
     "data": {
      "text/html": [
       "<style type=\"text/css\">\n",
       "#T_1f642_row2_col0, #T_1f642_row2_col1 {\n",
       "  background-color: red;\n",
       "}\n",
       "</style>\n",
       "<table id=\"T_1f642\">\n",
       "  <thead>\n",
       "    <tr>\n",
       "      <th class=\"blank level0\" >&nbsp;</th>\n",
       "      <th id=\"T_1f642_level0_col0\" class=\"col_heading level0 col0\" >Columns</th>\n",
       "      <th id=\"T_1f642_level0_col1\" class=\"col_heading level0 col1\" >Nan_perc</th>\n",
       "    </tr>\n",
       "  </thead>\n",
       "  <tbody>\n",
       "    <tr>\n",
       "      <th id=\"T_1f642_level0_row0\" class=\"row_heading level0 row0\" >0</th>\n",
       "      <td id=\"T_1f642_row0_col0\" class=\"data row0 col0\" >CustomerID</td>\n",
       "      <td id=\"T_1f642_row0_col1\" class=\"data row0 col1\" >0.000000</td>\n",
       "    </tr>\n",
       "    <tr>\n",
       "      <th id=\"T_1f642_level0_row1\" class=\"row_heading level0 row1\" >1</th>\n",
       "      <td id=\"T_1f642_row1_col0\" class=\"data row1 col0\" >FirstName</td>\n",
       "      <td id=\"T_1f642_row1_col1\" class=\"data row1 col1\" >0.000000</td>\n",
       "    </tr>\n",
       "    <tr>\n",
       "      <th id=\"T_1f642_level0_row2\" class=\"row_heading level0 row2\" >2</th>\n",
       "      <td id=\"T_1f642_row2_col0\" class=\"data row2 col0\" >MiddleInitial</td>\n",
       "      <td id=\"T_1f642_row2_col1\" class=\"data row2 col1\" >0.990000</td>\n",
       "    </tr>\n",
       "    <tr>\n",
       "      <th id=\"T_1f642_level0_row3\" class=\"row_heading level0 row3\" >3</th>\n",
       "      <td id=\"T_1f642_row3_col0\" class=\"data row3 col0\" >LastName</td>\n",
       "      <td id=\"T_1f642_row3_col1\" class=\"data row3 col1\" >0.000000</td>\n",
       "    </tr>\n",
       "    <tr>\n",
       "      <th id=\"T_1f642_level0_row4\" class=\"row_heading level0 row4\" >4</th>\n",
       "      <td id=\"T_1f642_row4_col0\" class=\"data row4 col0\" >CityID</td>\n",
       "      <td id=\"T_1f642_row4_col1\" class=\"data row4 col1\" >0.000000</td>\n",
       "    </tr>\n",
       "    <tr>\n",
       "      <th id=\"T_1f642_level0_row5\" class=\"row_heading level0 row5\" >5</th>\n",
       "      <td id=\"T_1f642_row5_col0\" class=\"data row5 col0\" >Address</td>\n",
       "      <td id=\"T_1f642_row5_col1\" class=\"data row5 col1\" >0.000000</td>\n",
       "    </tr>\n",
       "  </tbody>\n",
       "</table>\n"
      ],
      "text/plain": [
       "<pandas.io.formats.style.Styler at 0x78fe3ca85c60>"
      ]
     },
     "metadata": {},
     "output_type": "display_data"
    },
    {
     "name": "stdout",
     "output_type": "stream",
     "text": [
      "\n",
      " ------------------------------ \n",
      "\n"
     ]
    }
   ],
   "source": [
    "def check_missing(df):\n",
    "    def highlight_rows(x, threshold):\n",
    "        if x.Nan_perc > threshold:\n",
    "            return ['background-color: red']*len(x)\n",
    "        else:\n",
    "            return ['']*len(x)\n",
    "\n",
    "    df_name = [x for x in globals() if globals()[x] is df][0]\n",
    "    nan_Series = round(100 * df.isnull().sum() / len(df), 2)\n",
    "    nan_df = pd.DataFrame({'Columns' : nan_Series.index, 'Nan_perc' : nan_Series.values})\n",
    "    print(df_name.upper())\n",
    "    display(nan_df.style.apply(highlight_rows, threshold = 0, axis = 1))\n",
    "\n",
    "\n",
    "for key, df in df_dict.items():\n",
    "    check_missing(df)\n",
    "    print('\\n', '--' * 15, '\\n')"
   ]
  },
  {
   "cell_type": "markdown",
   "id": "136f3d06",
   "metadata": {
    "papermill": {
     "duration": 0.010412,
     "end_time": "2025-03-07T15:03:16.261822",
     "exception": false,
     "start_time": "2025-03-07T15:03:16.251410",
     "status": "completed"
    },
    "tags": []
   },
   "source": [
    "The fields with missing values are SalesDate, CountryCode and MiddleInitial: the latter may be due to people simply not having middle name, while the country code is missing only one entry that we can easily fill"
   ]
  },
  {
   "cell_type": "code",
   "execution_count": 6,
   "id": "f2aa55c9",
   "metadata": {
    "execution": {
     "iopub.execute_input": "2025-03-07T15:03:16.284710Z",
     "iopub.status.busy": "2025-03-07T15:03:16.284077Z",
     "iopub.status.idle": "2025-03-07T15:03:16.297935Z",
     "shell.execute_reply": "2025-03-07T15:03:16.296870Z"
    },
    "papermill": {
     "duration": 0.027481,
     "end_time": "2025-03-07T15:03:16.299982",
     "exception": false,
     "start_time": "2025-03-07T15:03:16.272501",
     "status": "completed"
    },
    "tags": []
   },
   "outputs": [
    {
     "data": {
      "text/html": [
       "<div>\n",
       "<style scoped>\n",
       "    .dataframe tbody tr th:only-of-type {\n",
       "        vertical-align: middle;\n",
       "    }\n",
       "\n",
       "    .dataframe tbody tr th {\n",
       "        vertical-align: top;\n",
       "    }\n",
       "\n",
       "    .dataframe thead th {\n",
       "        text-align: right;\n",
       "    }\n",
       "</style>\n",
       "<table border=\"1\" class=\"dataframe\">\n",
       "  <thead>\n",
       "    <tr style=\"text-align: right;\">\n",
       "      <th></th>\n",
       "      <th>CountryID</th>\n",
       "      <th>CountryName</th>\n",
       "      <th>CountryCode</th>\n",
       "    </tr>\n",
       "  </thead>\n",
       "  <tbody>\n",
       "    <tr>\n",
       "      <th>145</th>\n",
       "      <td>146</td>\n",
       "      <td>Australia</td>\n",
       "      <td>NaN</td>\n",
       "    </tr>\n",
       "  </tbody>\n",
       "</table>\n",
       "</div>"
      ],
      "text/plain": [
       "     CountryID CountryName CountryCode\n",
       "145        146   Australia         NaN"
      ]
     },
     "execution_count": 6,
     "metadata": {},
     "output_type": "execute_result"
    }
   ],
   "source": [
    "countries[countries.isnull().apply(lambda x : any(x), axis = 1)]"
   ]
  },
  {
   "cell_type": "code",
   "execution_count": 7,
   "id": "ac5ece49",
   "metadata": {
    "execution": {
     "iopub.execute_input": "2025-03-07T15:03:16.323910Z",
     "iopub.status.busy": "2025-03-07T15:03:16.323509Z",
     "iopub.status.idle": "2025-03-07T15:03:16.335514Z",
     "shell.execute_reply": "2025-03-07T15:03:16.334302Z"
    },
    "papermill": {
     "duration": 0.02593,
     "end_time": "2025-03-07T15:03:16.337337",
     "exception": false,
     "start_time": "2025-03-07T15:03:16.311407",
     "status": "completed"
    },
    "tags": []
   },
   "outputs": [
    {
     "name": "stdout",
     "output_type": "stream",
     "text": [
      "<class 'pandas.core.frame.DataFrame'>\n",
      "RangeIndex: 206 entries, 0 to 205\n",
      "Data columns (total 3 columns):\n",
      " #   Column       Non-Null Count  Dtype \n",
      "---  ------       --------------  ----- \n",
      " 0   CountryID    206 non-null    int64 \n",
      " 1   CountryName  206 non-null    object\n",
      " 2   CountryCode  206 non-null    object\n",
      "dtypes: int64(1), object(2)\n",
      "memory usage: 5.0+ KB\n"
     ]
    }
   ],
   "source": [
    "countries.loc[countries['CountryName'] == 'Australia', 'CountryCode'] = 'AUS'\n",
    "countries.info()"
   ]
  },
  {
   "cell_type": "markdown",
   "id": "8e0e66d3",
   "metadata": {
    "papermill": {
     "duration": 0.010576,
     "end_time": "2025-03-07T15:03:16.359106",
     "exception": false,
     "start_time": "2025-03-07T15:03:16.348530",
     "status": "completed"
    },
    "tags": []
   },
   "source": [
    "We also observe that the CountryID field in the city DataFrame has (wrongly) only one value and we can drop it, as well as the sales TransactionNumber since it will not be used in the analysis:"
   ]
  },
  {
   "cell_type": "code",
   "execution_count": 8,
   "id": "6055f95c",
   "metadata": {
    "execution": {
     "iopub.execute_input": "2025-03-07T15:03:16.382009Z",
     "iopub.status.busy": "2025-03-07T15:03:16.381665Z",
     "iopub.status.idle": "2025-03-07T15:03:16.697198Z",
     "shell.execute_reply": "2025-03-07T15:03:16.696094Z"
    },
    "papermill": {
     "duration": 0.328953,
     "end_time": "2025-03-07T15:03:16.698924",
     "exception": false,
     "start_time": "2025-03-07T15:03:16.369971",
     "status": "completed"
    },
    "tags": []
   },
   "outputs": [
    {
     "data": {
      "text/html": [
       "<div>\n",
       "<style scoped>\n",
       "    .dataframe tbody tr th:only-of-type {\n",
       "        vertical-align: middle;\n",
       "    }\n",
       "\n",
       "    .dataframe tbody tr th {\n",
       "        vertical-align: top;\n",
       "    }\n",
       "\n",
       "    .dataframe thead th {\n",
       "        text-align: right;\n",
       "    }\n",
       "</style>\n",
       "<table border=\"1\" class=\"dataframe\">\n",
       "  <thead>\n",
       "    <tr style=\"text-align: right;\">\n",
       "      <th></th>\n",
       "      <th>CityID</th>\n",
       "      <th>CityName</th>\n",
       "      <th>Zipcode</th>\n",
       "    </tr>\n",
       "  </thead>\n",
       "  <tbody>\n",
       "    <tr>\n",
       "      <th>0</th>\n",
       "      <td>1</td>\n",
       "      <td>Dayton</td>\n",
       "      <td>80563</td>\n",
       "    </tr>\n",
       "    <tr>\n",
       "      <th>1</th>\n",
       "      <td>2</td>\n",
       "      <td>Buffalo</td>\n",
       "      <td>17420</td>\n",
       "    </tr>\n",
       "    <tr>\n",
       "      <th>2</th>\n",
       "      <td>3</td>\n",
       "      <td>Chicago</td>\n",
       "      <td>44751</td>\n",
       "    </tr>\n",
       "  </tbody>\n",
       "</table>\n",
       "</div>"
      ],
      "text/plain": [
       "   CityID CityName  Zipcode\n",
       "0       1   Dayton    80563\n",
       "1       2  Buffalo    17420\n",
       "2       3  Chicago    44751"
      ]
     },
     "execution_count": 8,
     "metadata": {},
     "output_type": "execute_result"
    }
   ],
   "source": [
    "if 'TransactionNumber' in sales.columns:\n",
    "    sales.drop('TransactionNumber', axis = 1, inplace = True)\n",
    "\n",
    "if ('CountryID' in cities.columns) and (cities['CountryID'].nunique() == 1):\n",
    "    cities.drop('CountryID', axis = 1, inplace = True)\n",
    "\n",
    "cities.head(3)"
   ]
  },
  {
   "cell_type": "markdown",
   "id": "82a1494e",
   "metadata": {
    "papermill": {
     "duration": 0.010558,
     "end_time": "2025-03-07T15:03:16.720857",
     "exception": false,
     "start_time": "2025-03-07T15:03:16.710299",
     "status": "completed"
    },
    "tags": []
   },
   "source": [
    "**NOTE**: The data of the last month (May) is only partial, this has to be taken into account while studying monthly trends."
   ]
  },
  {
   "cell_type": "code",
   "execution_count": 9,
   "id": "70b7251c",
   "metadata": {
    "execution": {
     "iopub.execute_input": "2025-03-07T15:03:16.743705Z",
     "iopub.status.busy": "2025-03-07T15:03:16.743329Z",
     "iopub.status.idle": "2025-03-07T15:03:16.793941Z",
     "shell.execute_reply": "2025-03-07T15:03:16.792799Z"
    },
    "papermill": {
     "duration": 0.06412,
     "end_time": "2025-03-07T15:03:16.795765",
     "exception": false,
     "start_time": "2025-03-07T15:03:16.731645",
     "status": "completed"
    },
    "tags": []
   },
   "outputs": [
    {
     "data": {
      "text/plain": [
       "Timestamp('2018-05-09 23:59:59.400000')"
      ]
     },
     "execution_count": 9,
     "metadata": {},
     "output_type": "execute_result"
    }
   ],
   "source": [
    "sales['SalesDate'].max()"
   ]
  },
  {
   "cell_type": "markdown",
   "id": "16713e21",
   "metadata": {
    "papermill": {
     "duration": 0.010682,
     "end_time": "2025-03-07T15:03:16.817859",
     "exception": false,
     "start_time": "2025-03-07T15:03:16.807177",
     "status": "completed"
    },
    "tags": []
   },
   "source": [
    "<h2>Monthly Sales Performance</h2>"
   ]
  },
  {
   "cell_type": "markdown",
   "id": "44d4c870",
   "metadata": {
    "papermill": {
     "duration": 0.010721,
     "end_time": "2025-03-07T15:03:16.839509",
     "exception": false,
     "start_time": "2025-03-07T15:03:16.828788",
     "status": "completed"
    },
    "tags": []
   },
   "source": [
    "The PriceTotal field in the sales DataFrame is meaningless, so we compute the price of each sales by first merging the sales and product data:"
   ]
  },
  {
   "cell_type": "code",
   "execution_count": 10,
   "id": "169133d3",
   "metadata": {
    "execution": {
     "iopub.execute_input": "2025-03-07T15:03:16.862831Z",
     "iopub.status.busy": "2025-03-07T15:03:16.862488Z",
     "iopub.status.idle": "2025-03-07T15:03:17.742829Z",
     "shell.execute_reply": "2025-03-07T15:03:17.741851Z"
    },
    "papermill": {
     "duration": 0.894001,
     "end_time": "2025-03-07T15:03:17.744469",
     "exception": false,
     "start_time": "2025-03-07T15:03:16.850468",
     "status": "completed"
    },
    "tags": []
   },
   "outputs": [
    {
     "data": {
      "text/html": [
       "<div>\n",
       "<style scoped>\n",
       "    .dataframe tbody tr th:only-of-type {\n",
       "        vertical-align: middle;\n",
       "    }\n",
       "\n",
       "    .dataframe tbody tr th {\n",
       "        vertical-align: top;\n",
       "    }\n",
       "\n",
       "    .dataframe thead th {\n",
       "        text-align: right;\n",
       "    }\n",
       "</style>\n",
       "<table border=\"1\" class=\"dataframe\">\n",
       "  <thead>\n",
       "    <tr style=\"text-align: right;\">\n",
       "      <th></th>\n",
       "      <th>ProductID</th>\n",
       "      <th>CustomerID</th>\n",
       "      <th>SalesPersonID</th>\n",
       "      <th>Quantity</th>\n",
       "      <th>Discount</th>\n",
       "      <th>SalesDate</th>\n",
       "      <th>CategoryID</th>\n",
       "      <th>Price</th>\n",
       "    </tr>\n",
       "  </thead>\n",
       "  <tbody>\n",
       "    <tr>\n",
       "      <th>0</th>\n",
       "      <td>381</td>\n",
       "      <td>27039</td>\n",
       "      <td>6</td>\n",
       "      <td>7</td>\n",
       "      <td>0.0</td>\n",
       "      <td>2018-02-05 07:38:25.430</td>\n",
       "      <td>1</td>\n",
       "      <td>44.2337</td>\n",
       "    </tr>\n",
       "    <tr>\n",
       "      <th>1</th>\n",
       "      <td>61</td>\n",
       "      <td>25011</td>\n",
       "      <td>16</td>\n",
       "      <td>7</td>\n",
       "      <td>0.0</td>\n",
       "      <td>2018-02-02 16:03:31.150</td>\n",
       "      <td>8</td>\n",
       "      <td>62.5460</td>\n",
       "    </tr>\n",
       "    <tr>\n",
       "      <th>2</th>\n",
       "      <td>23</td>\n",
       "      <td>94024</td>\n",
       "      <td>13</td>\n",
       "      <td>24</td>\n",
       "      <td>0.0</td>\n",
       "      <td>2018-05-03 19:31:56.880</td>\n",
       "      <td>11</td>\n",
       "      <td>79.0184</td>\n",
       "    </tr>\n",
       "    <tr>\n",
       "      <th>3</th>\n",
       "      <td>176</td>\n",
       "      <td>73966</td>\n",
       "      <td>8</td>\n",
       "      <td>19</td>\n",
       "      <td>0.2</td>\n",
       "      <td>2018-04-07 14:43:55.420</td>\n",
       "      <td>6</td>\n",
       "      <td>81.3167</td>\n",
       "    </tr>\n",
       "    <tr>\n",
       "      <th>4</th>\n",
       "      <td>310</td>\n",
       "      <td>32653</td>\n",
       "      <td>10</td>\n",
       "      <td>9</td>\n",
       "      <td>0.0</td>\n",
       "      <td>2018-02-12 15:37:03.940</td>\n",
       "      <td>9</td>\n",
       "      <td>79.9780</td>\n",
       "    </tr>\n",
       "  </tbody>\n",
       "</table>\n",
       "</div>"
      ],
      "text/plain": [
       "   ProductID  CustomerID  SalesPersonID  Quantity  Discount  \\\n",
       "0        381       27039              6         7       0.0   \n",
       "1         61       25011             16         7       0.0   \n",
       "2         23       94024             13        24       0.0   \n",
       "3        176       73966              8        19       0.2   \n",
       "4        310       32653             10         9       0.0   \n",
       "\n",
       "                SalesDate  CategoryID    Price  \n",
       "0 2018-02-05 07:38:25.430           1  44.2337  \n",
       "1 2018-02-02 16:03:31.150           8  62.5460  \n",
       "2 2018-05-03 19:31:56.880          11  79.0184  \n",
       "3 2018-04-07 14:43:55.420           6  81.3167  \n",
       "4 2018-02-12 15:37:03.940           9  79.9780  "
      ]
     },
     "execution_count": 10,
     "metadata": {},
     "output_type": "execute_result"
    }
   ],
   "source": [
    "sales_full = pd.merge(sales[['ProductID', 'CustomerID', 'SalesPersonID', 'Quantity', 'Discount', 'SalesDate']], products[['ProductID', 'CategoryID', 'Price']],\n",
    "                         on = 'ProductID', how = 'left')\n",
    "sales_full.head()"
   ]
  },
  {
   "cell_type": "markdown",
   "id": "591e1332",
   "metadata": {
    "papermill": {
     "duration": 0.011451,
     "end_time": "2025-03-07T15:03:17.767566",
     "exception": false,
     "start_time": "2025-03-07T15:03:17.756115",
     "status": "completed"
    },
    "tags": []
   },
   "source": [
    "now we can calculate the price including the discount:"
   ]
  },
  {
   "cell_type": "code",
   "execution_count": 11,
   "id": "1110abba",
   "metadata": {
    "execution": {
     "iopub.execute_input": "2025-03-07T15:03:17.792719Z",
     "iopub.status.busy": "2025-03-07T15:03:17.792384Z",
     "iopub.status.idle": "2025-03-07T15:03:17.870999Z",
     "shell.execute_reply": "2025-03-07T15:03:17.869755Z"
    },
    "papermill": {
     "duration": 0.092755,
     "end_time": "2025-03-07T15:03:17.872804",
     "exception": false,
     "start_time": "2025-03-07T15:03:17.780049",
     "status": "completed"
    },
    "tags": []
   },
   "outputs": [
    {
     "data": {
      "text/html": [
       "<div>\n",
       "<style scoped>\n",
       "    .dataframe tbody tr th:only-of-type {\n",
       "        vertical-align: middle;\n",
       "    }\n",
       "\n",
       "    .dataframe tbody tr th {\n",
       "        vertical-align: top;\n",
       "    }\n",
       "\n",
       "    .dataframe thead th {\n",
       "        text-align: right;\n",
       "    }\n",
       "</style>\n",
       "<table border=\"1\" class=\"dataframe\">\n",
       "  <thead>\n",
       "    <tr style=\"text-align: right;\">\n",
       "      <th></th>\n",
       "      <th>ProductID</th>\n",
       "      <th>CustomerID</th>\n",
       "      <th>SalesPersonID</th>\n",
       "      <th>Quantity</th>\n",
       "      <th>Discount</th>\n",
       "      <th>SalesDate</th>\n",
       "      <th>CategoryID</th>\n",
       "      <th>Price</th>\n",
       "      <th>SalesTotal</th>\n",
       "    </tr>\n",
       "  </thead>\n",
       "  <tbody>\n",
       "    <tr>\n",
       "      <th>0</th>\n",
       "      <td>381</td>\n",
       "      <td>27039</td>\n",
       "      <td>6</td>\n",
       "      <td>7</td>\n",
       "      <td>0.0</td>\n",
       "      <td>2018-02-05 07:38:25.430</td>\n",
       "      <td>1</td>\n",
       "      <td>44.2337</td>\n",
       "      <td>309.63590</td>\n",
       "    </tr>\n",
       "    <tr>\n",
       "      <th>1</th>\n",
       "      <td>61</td>\n",
       "      <td>25011</td>\n",
       "      <td>16</td>\n",
       "      <td>7</td>\n",
       "      <td>0.0</td>\n",
       "      <td>2018-02-02 16:03:31.150</td>\n",
       "      <td>8</td>\n",
       "      <td>62.5460</td>\n",
       "      <td>437.82200</td>\n",
       "    </tr>\n",
       "    <tr>\n",
       "      <th>2</th>\n",
       "      <td>23</td>\n",
       "      <td>94024</td>\n",
       "      <td>13</td>\n",
       "      <td>24</td>\n",
       "      <td>0.0</td>\n",
       "      <td>2018-05-03 19:31:56.880</td>\n",
       "      <td>11</td>\n",
       "      <td>79.0184</td>\n",
       "      <td>1896.44160</td>\n",
       "    </tr>\n",
       "    <tr>\n",
       "      <th>3</th>\n",
       "      <td>176</td>\n",
       "      <td>73966</td>\n",
       "      <td>8</td>\n",
       "      <td>19</td>\n",
       "      <td>0.2</td>\n",
       "      <td>2018-04-07 14:43:55.420</td>\n",
       "      <td>6</td>\n",
       "      <td>81.3167</td>\n",
       "      <td>1236.01384</td>\n",
       "    </tr>\n",
       "    <tr>\n",
       "      <th>4</th>\n",
       "      <td>310</td>\n",
       "      <td>32653</td>\n",
       "      <td>10</td>\n",
       "      <td>9</td>\n",
       "      <td>0.0</td>\n",
       "      <td>2018-02-12 15:37:03.940</td>\n",
       "      <td>9</td>\n",
       "      <td>79.9780</td>\n",
       "      <td>719.80200</td>\n",
       "    </tr>\n",
       "  </tbody>\n",
       "</table>\n",
       "</div>"
      ],
      "text/plain": [
       "   ProductID  CustomerID  SalesPersonID  Quantity  Discount  \\\n",
       "0        381       27039              6         7       0.0   \n",
       "1         61       25011             16         7       0.0   \n",
       "2         23       94024             13        24       0.0   \n",
       "3        176       73966              8        19       0.2   \n",
       "4        310       32653             10         9       0.0   \n",
       "\n",
       "                SalesDate  CategoryID    Price  SalesTotal  \n",
       "0 2018-02-05 07:38:25.430           1  44.2337   309.63590  \n",
       "1 2018-02-02 16:03:31.150           8  62.5460   437.82200  \n",
       "2 2018-05-03 19:31:56.880          11  79.0184  1896.44160  \n",
       "3 2018-04-07 14:43:55.420           6  81.3167  1236.01384  \n",
       "4 2018-02-12 15:37:03.940           9  79.9780   719.80200  "
      ]
     },
     "execution_count": 11,
     "metadata": {},
     "output_type": "execute_result"
    }
   ],
   "source": [
    "sales_full['SalesTotal'] = sales_full['Price'] * sales_full['Quantity'] * (1. - sales_full['Discount'])\n",
    "sales_full.head()"
   ]
  },
  {
   "cell_type": "markdown",
   "id": "a0a89efe",
   "metadata": {
    "papermill": {
     "duration": 0.011623,
     "end_time": "2025-03-07T15:03:17.896595",
     "exception": false,
     "start_time": "2025-03-07T15:03:17.884972",
     "status": "completed"
    },
    "tags": []
   },
   "source": [
    "We group by year (technically not necessary with one year only, but we do it anyway for the sake of generalization) and by month, summing the sales total price:"
   ]
  },
  {
   "cell_type": "code",
   "execution_count": 12,
   "id": "0930eddd",
   "metadata": {
    "execution": {
     "iopub.execute_input": "2025-03-07T15:03:17.921442Z",
     "iopub.status.busy": "2025-03-07T15:03:17.921036Z",
     "iopub.status.idle": "2025-03-07T15:03:18.968319Z",
     "shell.execute_reply": "2025-03-07T15:03:18.967290Z"
    },
    "papermill": {
     "duration": 1.061868,
     "end_time": "2025-03-07T15:03:18.970340",
     "exception": false,
     "start_time": "2025-03-07T15:03:17.908472",
     "status": "completed"
    },
    "tags": []
   },
   "outputs": [
    {
     "data": {
      "text/html": [
       "<div>\n",
       "<style scoped>\n",
       "    .dataframe tbody tr th:only-of-type {\n",
       "        vertical-align: middle;\n",
       "    }\n",
       "\n",
       "    .dataframe tbody tr th {\n",
       "        vertical-align: top;\n",
       "    }\n",
       "\n",
       "    .dataframe thead th {\n",
       "        text-align: right;\n",
       "    }\n",
       "</style>\n",
       "<table border=\"1\" class=\"dataframe\">\n",
       "  <thead>\n",
       "    <tr style=\"text-align: right;\">\n",
       "      <th></th>\n",
       "      <th></th>\n",
       "      <th>SalesTotal</th>\n",
       "    </tr>\n",
       "    <tr>\n",
       "      <th>Year</th>\n",
       "      <th>Month</th>\n",
       "      <th></th>\n",
       "    </tr>\n",
       "  </thead>\n",
       "  <tbody>\n",
       "    <tr>\n",
       "      <th rowspan=\"5\" valign=\"top\">2018.0</th>\n",
       "      <th>1.0</th>\n",
       "      <td>1.030736e+09</td>\n",
       "    </tr>\n",
       "    <tr>\n",
       "      <th>2.0</th>\n",
       "      <td>9.292042e+08</td>\n",
       "    </tr>\n",
       "    <tr>\n",
       "      <th>3.0</th>\n",
       "      <td>1.032201e+09</td>\n",
       "    </tr>\n",
       "    <tr>\n",
       "      <th>4.0</th>\n",
       "      <td>9.972685e+08</td>\n",
       "    </tr>\n",
       "    <tr>\n",
       "      <th>5.0</th>\n",
       "      <td>2.998324e+08</td>\n",
       "    </tr>\n",
       "  </tbody>\n",
       "</table>\n",
       "</div>"
      ],
      "text/plain": [
       "                SalesTotal\n",
       "Year   Month              \n",
       "2018.0 1.0    1.030736e+09\n",
       "       2.0    9.292042e+08\n",
       "       3.0    1.032201e+09\n",
       "       4.0    9.972685e+08\n",
       "       5.0    2.998324e+08"
      ]
     },
     "execution_count": 12,
     "metadata": {},
     "output_type": "execute_result"
    }
   ],
   "source": [
    "sales_total_monthly = sales_full.groupby([sales_full['SalesDate'].dt.year.rename('Year'), sales_full['SalesDate'].dt.month.rename('Month')]).agg({'SalesTotal' : 'sum'})\n",
    "sales_total_monthly.head()"
   ]
  },
  {
   "cell_type": "code",
   "execution_count": 13,
   "id": "30f804ee",
   "metadata": {
    "execution": {
     "iopub.execute_input": "2025-03-07T15:03:18.995858Z",
     "iopub.status.busy": "2025-03-07T15:03:18.995491Z",
     "iopub.status.idle": "2025-03-07T15:03:19.344878Z",
     "shell.execute_reply": "2025-03-07T15:03:19.343808Z"
    },
    "papermill": {
     "duration": 0.364168,
     "end_time": "2025-03-07T15:03:19.346599",
     "exception": false,
     "start_time": "2025-03-07T15:03:18.982431",
     "status": "completed"
    },
    "tags": []
   },
   "outputs": [
    {
     "data": {
      "image/png": "[encoded data removed]",
      "text/plain": [
       "<Figure size 1500x1200 with 1 Axes>"
      ]
     },
     "metadata": {},
     "output_type": "display_data"
    }
   ],
   "source": [
    "_, ax = plt.subplots(figsize = (15, 12))\n",
    "sns.barplot(x = sales_total_monthly.index.get_level_values(1), y = sales_total_monthly.loc[:, 'SalesTotal'], ax = ax)\n",
    "plt.xticks(ticks = [0, 1, 2, 3, 4], labels = ['Jan', 'Feb', 'Mar', 'Apr', 'May'])\n",
    "plt.title('Sales total by month'.upper())\n",
    "plt.show()"
   ]
  },
  {
   "cell_type": "markdown",
   "id": "8d8b21d4",
   "metadata": {
    "papermill": {
     "duration": 0.011674,
     "end_time": "2025-03-07T15:03:19.370450",
     "exception": false,
     "start_time": "2025-03-07T15:03:19.358776",
     "status": "completed"
    },
    "tags": []
   },
   "source": [
    "To study the sales trend for each category we pivot the sales data on the CategoryID field, then make the same operations as above:"
   ]
  },
  {
   "cell_type": "code",
   "execution_count": 14,
   "id": "902dd011",
   "metadata": {
    "execution": {
     "iopub.execute_input": "2025-03-07T15:03:19.395986Z",
     "iopub.status.busy": "2025-03-07T15:03:19.395593Z",
     "iopub.status.idle": "2025-03-07T15:03:19.404032Z",
     "shell.execute_reply": "2025-03-07T15:03:19.402940Z"
    },
    "papermill": {
     "duration": 0.023426,
     "end_time": "2025-03-07T15:03:19.405755",
     "exception": false,
     "start_time": "2025-03-07T15:03:19.382329",
     "status": "completed"
    },
    "tags": []
   },
   "outputs": [
    {
     "data": {
      "text/html": [
       "<div>\n",
       "<style scoped>\n",
       "    .dataframe tbody tr th:only-of-type {\n",
       "        vertical-align: middle;\n",
       "    }\n",
       "\n",
       "    .dataframe tbody tr th {\n",
       "        vertical-align: top;\n",
       "    }\n",
       "\n",
       "    .dataframe thead th {\n",
       "        text-align: right;\n",
       "    }\n",
       "</style>\n",
       "<table border=\"1\" class=\"dataframe\">\n",
       "  <thead>\n",
       "    <tr style=\"text-align: right;\">\n",
       "      <th></th>\n",
       "      <th>CategoryID</th>\n",
       "      <th>CategoryName</th>\n",
       "    </tr>\n",
       "  </thead>\n",
       "  <tbody>\n",
       "    <tr>\n",
       "      <th>0</th>\n",
       "      <td>1</td>\n",
       "      <td>Confections</td>\n",
       "    </tr>\n",
       "  </tbody>\n",
       "</table>\n",
       "</div>"
      ],
      "text/plain": [
       "   CategoryID CategoryName\n",
       "0           1  Confections"
      ]
     },
     "execution_count": 14,
     "metadata": {},
     "output_type": "execute_result"
    }
   ],
   "source": [
    "categories.head(1)"
   ]
  },
  {
   "cell_type": "code",
   "execution_count": 15,
   "id": "bc3f8340",
   "metadata": {
    "execution": {
     "iopub.execute_input": "2025-03-07T15:03:19.431502Z",
     "iopub.status.busy": "2025-03-07T15:03:19.431033Z",
     "iopub.status.idle": "2025-03-07T15:03:34.624129Z",
     "shell.execute_reply": "2025-03-07T15:03:34.622802Z"
    },
    "papermill": {
     "duration": 15.208,
     "end_time": "2025-03-07T15:03:34.626130",
     "exception": false,
     "start_time": "2025-03-07T15:03:19.418130",
     "status": "completed"
    },
    "tags": []
   },
   "outputs": [
    {
     "data": {
      "text/html": [
       "<div>\n",
       "<style scoped>\n",
       "    .dataframe tbody tr th:only-of-type {\n",
       "        vertical-align: middle;\n",
       "    }\n",
       "\n",
       "    .dataframe tbody tr th {\n",
       "        vertical-align: top;\n",
       "    }\n",
       "\n",
       "    .dataframe thead th {\n",
       "        text-align: right;\n",
       "    }\n",
       "</style>\n",
       "<table border=\"1\" class=\"dataframe\">\n",
       "  <thead>\n",
       "    <tr style=\"text-align: right;\">\n",
       "      <th>CategoryName</th>\n",
       "      <th>Month</th>\n",
       "      <th>Beverages</th>\n",
       "      <th>Cereals</th>\n",
       "      <th>Confections</th>\n",
       "      <th>Dairy</th>\n",
       "      <th>Grain</th>\n",
       "      <th>Meat</th>\n",
       "      <th>Poultry</th>\n",
       "      <th>Produce</th>\n",
       "      <th>Seafood</th>\n",
       "      <th>Shell fish</th>\n",
       "      <th>Snails</th>\n",
       "    </tr>\n",
       "    <tr>\n",
       "      <th>Year</th>\n",
       "      <th></th>\n",
       "      <th></th>\n",
       "      <th></th>\n",
       "      <th></th>\n",
       "      <th></th>\n",
       "      <th></th>\n",
       "      <th></th>\n",
       "      <th></th>\n",
       "      <th></th>\n",
       "      <th></th>\n",
       "      <th></th>\n",
       "      <th></th>\n",
       "    </tr>\n",
       "  </thead>\n",
       "  <tbody>\n",
       "    <tr>\n",
       "      <th>2018</th>\n",
       "      <td>1</td>\n",
       "      <td>8.702529e+07</td>\n",
       "      <td>1.011682e+08</td>\n",
       "      <td>1.327642e+08</td>\n",
       "      <td>8.402495e+07</td>\n",
       "      <td>7.736691e+07</td>\n",
       "      <td>1.170887e+08</td>\n",
       "      <td>1.047421e+08</td>\n",
       "      <td>8.741805e+07</td>\n",
       "      <td>7.864204e+07</td>\n",
       "      <td>7.126848e+07</td>\n",
       "      <td>8.892288e+07</td>\n",
       "    </tr>\n",
       "    <tr>\n",
       "      <th>2018</th>\n",
       "      <td>2</td>\n",
       "      <td>7.883233e+07</td>\n",
       "      <td>9.163084e+07</td>\n",
       "      <td>1.189722e+08</td>\n",
       "      <td>7.610822e+07</td>\n",
       "      <td>6.975316e+07</td>\n",
       "      <td>1.053218e+08</td>\n",
       "      <td>9.423461e+07</td>\n",
       "      <td>7.896514e+07</td>\n",
       "      <td>7.104729e+07</td>\n",
       "      <td>6.411128e+07</td>\n",
       "      <td>7.996120e+07</td>\n",
       "    </tr>\n",
       "    <tr>\n",
       "      <th>2018</th>\n",
       "      <td>3</td>\n",
       "      <td>8.738281e+07</td>\n",
       "      <td>1.021289e+08</td>\n",
       "      <td>1.325288e+08</td>\n",
       "      <td>8.436452e+07</td>\n",
       "      <td>7.698383e+07</td>\n",
       "      <td>1.174793e+08</td>\n",
       "      <td>1.047060e+08</td>\n",
       "      <td>8.789023e+07</td>\n",
       "      <td>7.849319e+07</td>\n",
       "      <td>7.162672e+07</td>\n",
       "      <td>8.829294e+07</td>\n",
       "    </tr>\n",
       "    <tr>\n",
       "      <th>2018</th>\n",
       "      <td>4</td>\n",
       "      <td>8.415074e+07</td>\n",
       "      <td>9.826486e+07</td>\n",
       "      <td>1.280237e+08</td>\n",
       "      <td>8.176407e+07</td>\n",
       "      <td>7.411741e+07</td>\n",
       "      <td>1.136282e+08</td>\n",
       "      <td>1.014326e+08</td>\n",
       "      <td>8.473260e+07</td>\n",
       "      <td>7.612740e+07</td>\n",
       "      <td>6.907181e+07</td>\n",
       "      <td>8.567857e+07</td>\n",
       "    </tr>\n",
       "    <tr>\n",
       "      <th>2018</th>\n",
       "      <td>5</td>\n",
       "      <td>2.540865e+07</td>\n",
       "      <td>2.978970e+07</td>\n",
       "      <td>3.885472e+07</td>\n",
       "      <td>2.441010e+07</td>\n",
       "      <td>2.235433e+07</td>\n",
       "      <td>3.425729e+07</td>\n",
       "      <td>3.055884e+07</td>\n",
       "      <td>2.539713e+07</td>\n",
       "      <td>2.281148e+07</td>\n",
       "      <td>2.053261e+07</td>\n",
       "      <td>2.538928e+07</td>\n",
       "    </tr>\n",
       "  </tbody>\n",
       "</table>\n",
       "</div>"
      ],
      "text/plain": [
       "CategoryName  Month     Beverages       Cereals   Confections         Dairy  \\\n",
       "Year                                                                          \n",
       "2018              1  8.702529e+07  1.011682e+08  1.327642e+08  8.402495e+07   \n",
       "2018              2  7.883233e+07  9.163084e+07  1.189722e+08  7.610822e+07   \n",
       "2018              3  8.738281e+07  1.021289e+08  1.325288e+08  8.436452e+07   \n",
       "2018              4  8.415074e+07  9.826486e+07  1.280237e+08  8.176407e+07   \n",
       "2018              5  2.540865e+07  2.978970e+07  3.885472e+07  2.441010e+07   \n",
       "\n",
       "CategoryName         Grain          Meat       Poultry       Produce  \\\n",
       "Year                                                                   \n",
       "2018          7.736691e+07  1.170887e+08  1.047421e+08  8.741805e+07   \n",
       "2018          6.975316e+07  1.053218e+08  9.423461e+07  7.896514e+07   \n",
       "2018          7.698383e+07  1.174793e+08  1.047060e+08  8.789023e+07   \n",
       "2018          7.411741e+07  1.136282e+08  1.014326e+08  8.473260e+07   \n",
       "2018          2.235433e+07  3.425729e+07  3.055884e+07  2.539713e+07   \n",
       "\n",
       "CategoryName       Seafood    Shell fish        Snails  \n",
       "Year                                                    \n",
       "2018          7.864204e+07  7.126848e+07  8.892288e+07  \n",
       "2018          7.104729e+07  6.411128e+07  7.996120e+07  \n",
       "2018          7.849319e+07  7.162672e+07  8.829294e+07  \n",
       "2018          7.612740e+07  6.907181e+07  8.567857e+07  \n",
       "2018          2.281148e+07  2.053261e+07  2.538928e+07  "
      ]
     },
     "execution_count": 15,
     "metadata": {},
     "output_type": "execute_result"
    }
   ],
   "source": [
    "sales_category = pd.merge(sales_full, categories, how = 'left', on = 'CategoryID')\n",
    "sales_category = pd.pivot_table(sales_category, values = 'SalesTotal', columns = 'CategoryName', index = 'SalesDate', fill_value = 0)\n",
    "sales_cat_monthly = sales_category.groupby([sales_category.index.year.rename('Year'), sales_category.index.month.rename('Month')]).agg('sum')\n",
    "#We reset the month index to make plotting easier\n",
    "sales_cat_monthly = sales_cat_monthly.reset_index(level = 1)\n",
    "sales_cat_monthly.head(20)"
   ]
  },
  {
   "cell_type": "code",
   "execution_count": 16,
   "id": "96cb5304",
   "metadata": {
    "execution": {
     "iopub.execute_input": "2025-03-07T15:03:34.654576Z",
     "iopub.status.busy": "2025-03-07T15:03:34.654139Z",
     "iopub.status.idle": "2025-03-07T15:03:36.514918Z",
     "shell.execute_reply": "2025-03-07T15:03:36.513688Z"
    },
    "papermill": {
     "duration": 1.877732,
     "end_time": "2025-03-07T15:03:36.516733",
     "exception": false,
     "start_time": "2025-03-07T15:03:34.639001",
     "status": "completed"
    },
    "tags": []
   },
   "outputs": [
    {
     "data": {
      "text/html": [
       "<iframe\n",
       "    scrolling=\"no\"\n",
       "    width=\"100%\"\n",
       "    height=\"545px\"\n",
       "    src=\"iframe_figures/figure_16.html\"\n",
       "    frameborder=\"0\"\n",
       "    allowfullscreen\n",
       "></iframe>\n"
      ]
     },
     "metadata": {},
     "output_type": "display_data"
    }
   ],
   "source": [
    "fig = px.line(sales_cat_monthly, x  = 'Month', y = sales_cat_monthly.columns)\n",
    "fig.show()"
   ]
  },
  {
   "cell_type": "markdown",
   "id": "aaefa56b",
   "metadata": {
    "papermill": {
     "duration": 0.012122,
     "end_time": "2025-03-07T15:03:36.541598",
     "exception": false,
     "start_time": "2025-03-07T15:03:36.529476",
     "status": "completed"
    },
    "tags": []
   },
   "source": [
    "<h2>Customer Segmentation</h2>"
   ]
  },
  {
   "cell_type": "markdown",
   "id": "5dd7aea5",
   "metadata": {
    "papermill": {
     "duration": 0.012524,
     "end_time": "2025-03-07T15:03:36.567344",
     "exception": false,
     "start_time": "2025-03-07T15:03:36.554820",
     "status": "completed"
    },
    "tags": []
   },
   "source": [
    "We don't have enough data for a demographic or psychographic segmentation, therefore we aim to a behavioral analysis, and specifically an RFM segmentation computing for each customer:\n",
    "<ul>\n",
    "    <li>Recency: the time elapsed from the last sale.</li>\n",
    "    <li>Frequency: the number of sales per time unit.</li>\n",
    "    <li>Monetary: the amount of money spent on purchases.</li>\n",
    "</ul>"
   ]
  },
  {
   "cell_type": "code",
   "execution_count": 17,
   "id": "eb64e864",
   "metadata": {
    "execution": {
     "iopub.execute_input": "2025-03-07T15:03:36.593813Z",
     "iopub.status.busy": "2025-03-07T15:03:36.593448Z",
     "iopub.status.idle": "2025-03-07T15:03:48.767432Z",
     "shell.execute_reply": "2025-03-07T15:03:48.766328Z"
    },
    "papermill": {
     "duration": 12.189493,
     "end_time": "2025-03-07T15:03:48.769344",
     "exception": false,
     "start_time": "2025-03-07T15:03:36.579851",
     "status": "completed"
    },
    "tags": []
   },
   "outputs": [
    {
     "data": {
      "text/html": [
       "<div>\n",
       "<style scoped>\n",
       "    .dataframe tbody tr th:only-of-type {\n",
       "        vertical-align: middle;\n",
       "    }\n",
       "\n",
       "    .dataframe tbody tr th {\n",
       "        vertical-align: top;\n",
       "    }\n",
       "\n",
       "    .dataframe thead th {\n",
       "        text-align: right;\n",
       "    }\n",
       "</style>\n",
       "<table border=\"1\" class=\"dataframe\">\n",
       "  <thead>\n",
       "    <tr style=\"text-align: right;\">\n",
       "      <th></th>\n",
       "      <th>Frequency</th>\n",
       "      <th>Monetary</th>\n",
       "      <th>Recency</th>\n",
       "    </tr>\n",
       "    <tr>\n",
       "      <th>CustomerID</th>\n",
       "      <th></th>\n",
       "      <th></th>\n",
       "      <th></th>\n",
       "    </tr>\n",
       "  </thead>\n",
       "  <tbody>\n",
       "    <tr>\n",
       "      <th>1</th>\n",
       "      <td>0.507812</td>\n",
       "      <td>3263.56073</td>\n",
       "      <td>2497</td>\n",
       "    </tr>\n",
       "    <tr>\n",
       "      <th>2</th>\n",
       "      <td>0.500000</td>\n",
       "      <td>3397.89219</td>\n",
       "      <td>2498</td>\n",
       "    </tr>\n",
       "    <tr>\n",
       "      <th>3</th>\n",
       "      <td>0.554688</td>\n",
       "      <td>3327.79072</td>\n",
       "      <td>2494</td>\n",
       "    </tr>\n",
       "    <tr>\n",
       "      <th>4</th>\n",
       "      <td>0.539062</td>\n",
       "      <td>3122.56073</td>\n",
       "      <td>2495</td>\n",
       "    </tr>\n",
       "    <tr>\n",
       "      <th>5</th>\n",
       "      <td>0.460938</td>\n",
       "      <td>2650.34531</td>\n",
       "      <td>2494</td>\n",
       "    </tr>\n",
       "  </tbody>\n",
       "</table>\n",
       "</div>"
      ],
      "text/plain": [
       "            Frequency    Monetary  Recency\n",
       "CustomerID                                \n",
       "1            0.507812  3263.56073     2497\n",
       "2            0.500000  3397.89219     2498\n",
       "3            0.554688  3327.79072     2494\n",
       "4            0.539062  3122.56073     2495\n",
       "5            0.460938  2650.34531     2494"
      ]
     },
     "execution_count": 17,
     "metadata": {},
     "output_type": "execute_result"
    }
   ],
   "source": [
    "TODAY = pd.Timestamp.today()\n",
    "TIMESPAN = (sales_full['SalesDate'].max() - sales_full['SalesDate'].min()).days\n",
    "\n",
    "customer_data = sales_full.groupby('CustomerID').agg(Frequency = ('SalesTotal' , lambda x : len(x) / TIMESPAN),\n",
    "Monetary = ('SalesTotal' ,'sum'),\n",
    "Recency = ('SalesDate', lambda x : (TODAY - x.max()).days))                                                        \n",
    "customer_data.head()"
   ]
  },
  {
   "cell_type": "markdown",
   "id": "3726efc6",
   "metadata": {
    "papermill": {
     "duration": 0.012643,
     "end_time": "2025-03-07T15:03:48.795027",
     "exception": false,
     "start_time": "2025-03-07T15:03:48.782384",
     "status": "completed"
    },
    "tags": []
   },
   "source": [
    "To compute the RFM score we divide Recency, Frequency and Monetary in 5 n-tiles and sum their values:"
   ]
  },
  {
   "cell_type": "code",
   "execution_count": 18,
   "id": "0b469ac6",
   "metadata": {
    "execution": {
     "iopub.execute_input": "2025-03-07T15:03:48.822075Z",
     "iopub.status.busy": "2025-03-07T15:03:48.821731Z",
     "iopub.status.idle": "2025-03-07T15:03:48.846832Z",
     "shell.execute_reply": "2025-03-07T15:03:48.845645Z"
    },
    "papermill": {
     "duration": 0.0406,
     "end_time": "2025-03-07T15:03:48.848586",
     "exception": false,
     "start_time": "2025-03-07T15:03:48.807986",
     "status": "completed"
    },
    "tags": []
   },
   "outputs": [
    {
     "data": {
      "text/html": [
       "<div>\n",
       "<style scoped>\n",
       "    .dataframe tbody tr th:only-of-type {\n",
       "        vertical-align: middle;\n",
       "    }\n",
       "\n",
       "    .dataframe tbody tr th {\n",
       "        vertical-align: top;\n",
       "    }\n",
       "\n",
       "    .dataframe thead th {\n",
       "        text-align: right;\n",
       "    }\n",
       "</style>\n",
       "<table border=\"1\" class=\"dataframe\">\n",
       "  <thead>\n",
       "    <tr style=\"text-align: right;\">\n",
       "      <th></th>\n",
       "      <th>Frequency</th>\n",
       "      <th>Monetary</th>\n",
       "      <th>Recency</th>\n",
       "      <th>RFM</th>\n",
       "    </tr>\n",
       "    <tr>\n",
       "      <th>CustomerID</th>\n",
       "      <th></th>\n",
       "      <th></th>\n",
       "      <th></th>\n",
       "      <th></th>\n",
       "    </tr>\n",
       "  </thead>\n",
       "  <tbody>\n",
       "    <tr>\n",
       "      <th>1</th>\n",
       "      <td>0.507812</td>\n",
       "      <td>3263.56073</td>\n",
       "      <td>2497</td>\n",
       "      <td>9</td>\n",
       "    </tr>\n",
       "    <tr>\n",
       "      <th>2</th>\n",
       "      <td>0.500000</td>\n",
       "      <td>3397.89219</td>\n",
       "      <td>2498</td>\n",
       "      <td>8</td>\n",
       "    </tr>\n",
       "    <tr>\n",
       "      <th>3</th>\n",
       "      <td>0.554688</td>\n",
       "      <td>3327.79072</td>\n",
       "      <td>2494</td>\n",
       "      <td>9</td>\n",
       "    </tr>\n",
       "    <tr>\n",
       "      <th>4</th>\n",
       "      <td>0.539062</td>\n",
       "      <td>3122.56073</td>\n",
       "      <td>2495</td>\n",
       "      <td>9</td>\n",
       "    </tr>\n",
       "    <tr>\n",
       "      <th>5</th>\n",
       "      <td>0.460938</td>\n",
       "      <td>2650.34531</td>\n",
       "      <td>2494</td>\n",
       "      <td>8</td>\n",
       "    </tr>\n",
       "  </tbody>\n",
       "</table>\n",
       "</div>"
      ],
      "text/plain": [
       "            Frequency    Monetary  Recency  RFM\n",
       "CustomerID                                     \n",
       "1            0.507812  3263.56073     2497    9\n",
       "2            0.500000  3397.89219     2498    8\n",
       "3            0.554688  3327.79072     2494    9\n",
       "4            0.539062  3122.56073     2495    9\n",
       "5            0.460938  2650.34531     2494    8"
      ]
     },
     "execution_count": 18,
     "metadata": {},
     "output_type": "execute_result"
    }
   ],
   "source": [
    "customer_data['RFM'] = pd.cut(customer_data['Frequency'], bins = 5, labels = [1, 2, 3, 4, 5]).astype('int') + pd.cut(customer_data['Monetary'], bins = 5, labels = [1, 2, 3, 4, 5]).astype('int') + pd.cut(customer_data['Recency'], bins = 5, labels = [5, 4, 3, 2, 1]).astype('int')\n",
    "customer_data.head()"
   ]
  },
  {
   "cell_type": "code",
   "execution_count": 19,
   "id": "09e883f5",
   "metadata": {
    "execution": {
     "iopub.execute_input": "2025-03-07T15:03:48.875779Z",
     "iopub.status.busy": "2025-03-07T15:03:48.875430Z",
     "iopub.status.idle": "2025-03-07T15:03:48.894414Z",
     "shell.execute_reply": "2025-03-07T15:03:48.893338Z"
    },
    "papermill": {
     "duration": 0.034542,
     "end_time": "2025-03-07T15:03:48.896234",
     "exception": false,
     "start_time": "2025-03-07T15:03:48.861692",
     "status": "completed"
    },
    "tags": []
   },
   "outputs": [
    {
     "data": {
      "text/html": [
       "<div>\n",
       "<style scoped>\n",
       "    .dataframe tbody tr th:only-of-type {\n",
       "        vertical-align: middle;\n",
       "    }\n",
       "\n",
       "    .dataframe tbody tr th {\n",
       "        vertical-align: top;\n",
       "    }\n",
       "\n",
       "    .dataframe thead th {\n",
       "        text-align: right;\n",
       "    }\n",
       "</style>\n",
       "<table border=\"1\" class=\"dataframe\">\n",
       "  <thead>\n",
       "    <tr style=\"text-align: right;\">\n",
       "      <th></th>\n",
       "      <th>CustomerID</th>\n",
       "      <th>FirstName</th>\n",
       "      <th>MiddleInitial</th>\n",
       "      <th>LastName</th>\n",
       "      <th>CityID</th>\n",
       "      <th>Address</th>\n",
       "      <th>Frequency</th>\n",
       "      <th>Monetary</th>\n",
       "      <th>Recency</th>\n",
       "      <th>RFM</th>\n",
       "    </tr>\n",
       "  </thead>\n",
       "  <tbody>\n",
       "    <tr>\n",
       "      <th>0</th>\n",
       "      <td>1</td>\n",
       "      <td>Stefanie</td>\n",
       "      <td>Y</td>\n",
       "      <td>Frye</td>\n",
       "      <td>79</td>\n",
       "      <td>97 Oak Avenue</td>\n",
       "      <td>0.507812</td>\n",
       "      <td>3263.56073</td>\n",
       "      <td>2497</td>\n",
       "      <td>9</td>\n",
       "    </tr>\n",
       "    <tr>\n",
       "      <th>1</th>\n",
       "      <td>2</td>\n",
       "      <td>Sandy</td>\n",
       "      <td>T</td>\n",
       "      <td>Kirby</td>\n",
       "      <td>96</td>\n",
       "      <td>52 White First Freeway</td>\n",
       "      <td>0.500000</td>\n",
       "      <td>3397.89219</td>\n",
       "      <td>2498</td>\n",
       "      <td>8</td>\n",
       "    </tr>\n",
       "    <tr>\n",
       "      <th>2</th>\n",
       "      <td>3</td>\n",
       "      <td>Lee</td>\n",
       "      <td>T</td>\n",
       "      <td>Zhang</td>\n",
       "      <td>55</td>\n",
       "      <td>921 White Fabien Avenue</td>\n",
       "      <td>0.554688</td>\n",
       "      <td>3327.79072</td>\n",
       "      <td>2494</td>\n",
       "      <td>9</td>\n",
       "    </tr>\n",
       "    <tr>\n",
       "      <th>3</th>\n",
       "      <td>4</td>\n",
       "      <td>Regina</td>\n",
       "      <td>S</td>\n",
       "      <td>Avery</td>\n",
       "      <td>40</td>\n",
       "      <td>75 Old Avenue</td>\n",
       "      <td>0.539062</td>\n",
       "      <td>3122.56073</td>\n",
       "      <td>2495</td>\n",
       "      <td>9</td>\n",
       "    </tr>\n",
       "    <tr>\n",
       "      <th>4</th>\n",
       "      <td>5</td>\n",
       "      <td>Daniel</td>\n",
       "      <td>S</td>\n",
       "      <td>Mccann</td>\n",
       "      <td>2</td>\n",
       "      <td>283 South Green Hague Avenue</td>\n",
       "      <td>0.460938</td>\n",
       "      <td>2650.34531</td>\n",
       "      <td>2494</td>\n",
       "      <td>8</td>\n",
       "    </tr>\n",
       "  </tbody>\n",
       "</table>\n",
       "</div>"
      ],
      "text/plain": [
       "   CustomerID FirstName MiddleInitial LastName  CityID  \\\n",
       "0           1  Stefanie             Y     Frye      79   \n",
       "1           2     Sandy             T    Kirby      96   \n",
       "2           3       Lee             T    Zhang      55   \n",
       "3           4    Regina             S    Avery      40   \n",
       "4           5    Daniel             S   Mccann       2   \n",
       "\n",
       "                        Address  Frequency    Monetary  Recency  RFM  \n",
       "0                 97 Oak Avenue   0.507812  3263.56073     2497    9  \n",
       "1        52 White First Freeway   0.500000  3397.89219     2498    8  \n",
       "2       921 White Fabien Avenue   0.554688  3327.79072     2494    9  \n",
       "3                 75 Old Avenue   0.539062  3122.56073     2495    9  \n",
       "4  283 South Green Hague Avenue   0.460938  2650.34531     2494    8  "
      ]
     },
     "execution_count": 19,
     "metadata": {},
     "output_type": "execute_result"
    }
   ],
   "source": [
    "customers = pd.merge(customers, customer_data, on = 'CustomerID', how = 'left')\n",
    "customers.head()"
   ]
  },
  {
   "cell_type": "markdown",
   "id": "47891a9d",
   "metadata": {
    "execution": {
     "iopub.status.busy": "2025-03-05T09:49:31.854766Z",
     "iopub.status.idle": "2025-03-05T09:49:31.855111Z",
     "shell.execute_reply": "2025-03-05T09:49:31.854978Z"
    },
    "papermill": {
     "duration": 0.012865,
     "end_time": "2025-03-07T15:03:48.923750",
     "exception": false,
     "start_time": "2025-03-07T15:03:48.910885",
     "status": "completed"
    },
    "tags": []
   },
   "source": [
    "<h2>Salesperson effectiveness</h2>"
   ]
  },
  {
   "cell_type": "markdown",
   "id": "9033570b",
   "metadata": {
    "papermill": {
     "duration": 0.012792,
     "end_time": "2025-03-07T15:03:48.949689",
     "exception": false,
     "start_time": "2025-03-07T15:03:48.936897",
     "status": "completed"
    },
    "tags": []
   },
   "source": [
    "To find the top best (and worst) salespersons we group the sales date by their ID, summing the sales prices and sorting their values:"
   ]
  },
  {
   "cell_type": "code",
   "execution_count": 20,
   "id": "36718208",
   "metadata": {
    "execution": {
     "iopub.execute_input": "2025-03-07T15:03:48.977149Z",
     "iopub.status.busy": "2025-03-07T15:03:48.976820Z",
     "iopub.status.idle": "2025-03-07T15:03:49.107199Z",
     "shell.execute_reply": "2025-03-07T15:03:49.106142Z"
    },
    "papermill": {
     "duration": 0.146115,
     "end_time": "2025-03-07T15:03:49.108961",
     "exception": false,
     "start_time": "2025-03-07T15:03:48.962846",
     "status": "completed"
    },
    "tags": []
   },
   "outputs": [
    {
     "data": {
      "text/html": [
       "<div>\n",
       "<style scoped>\n",
       "    .dataframe tbody tr th:only-of-type {\n",
       "        vertical-align: middle;\n",
       "    }\n",
       "\n",
       "    .dataframe tbody tr th {\n",
       "        vertical-align: top;\n",
       "    }\n",
       "\n",
       "    .dataframe thead th {\n",
       "        text-align: right;\n",
       "    }\n",
       "</style>\n",
       "<table border=\"1\" class=\"dataframe\">\n",
       "  <thead>\n",
       "    <tr style=\"text-align: right;\">\n",
       "      <th></th>\n",
       "      <th>SalesPerson_Total</th>\n",
       "    </tr>\n",
       "    <tr>\n",
       "      <th>SalesPersonID</th>\n",
       "      <th></th>\n",
       "    </tr>\n",
       "  </thead>\n",
       "  <tbody>\n",
       "    <tr>\n",
       "      <th>21</th>\n",
       "      <td>1.900427e+08</td>\n",
       "    </tr>\n",
       "    <tr>\n",
       "      <th>20</th>\n",
       "      <td>1.894131e+08</td>\n",
       "    </tr>\n",
       "    <tr>\n",
       "      <th>13</th>\n",
       "      <td>1.893129e+08</td>\n",
       "    </tr>\n",
       "    <tr>\n",
       "      <th>5</th>\n",
       "      <td>1.892226e+08</td>\n",
       "    </tr>\n",
       "    <tr>\n",
       "      <th>4</th>\n",
       "      <td>1.891360e+08</td>\n",
       "    </tr>\n",
       "    <tr>\n",
       "      <th>14</th>\n",
       "      <td>1.890622e+08</td>\n",
       "    </tr>\n",
       "    <tr>\n",
       "      <th>8</th>\n",
       "      <td>1.888626e+08</td>\n",
       "    </tr>\n",
       "    <tr>\n",
       "      <th>7</th>\n",
       "      <td>1.887950e+08</td>\n",
       "    </tr>\n",
       "    <tr>\n",
       "      <th>6</th>\n",
       "      <td>1.887848e+08</td>\n",
       "    </tr>\n",
       "    <tr>\n",
       "      <th>22</th>\n",
       "      <td>1.887811e+08</td>\n",
       "    </tr>\n",
       "  </tbody>\n",
       "</table>\n",
       "</div>"
      ],
      "text/plain": [
       "               SalesPerson_Total\n",
       "SalesPersonID                   \n",
       "21                  1.900427e+08\n",
       "20                  1.894131e+08\n",
       "13                  1.893129e+08\n",
       "5                   1.892226e+08\n",
       "4                   1.891360e+08\n",
       "14                  1.890622e+08\n",
       "8                   1.888626e+08\n",
       "7                   1.887950e+08\n",
       "6                   1.887848e+08\n",
       "22                  1.887811e+08"
      ]
     },
     "execution_count": 20,
     "metadata": {},
     "output_type": "execute_result"
    }
   ],
   "source": [
    "sales_performance_total = sales_full.groupby(['SalesPersonID']).agg(SalesPerson_Total = ('SalesTotal', 'sum'))\n",
    "sales_performance_total.sort_values(by = 'SalesPerson_Total', ascending = False).head(10)"
   ]
  },
  {
   "cell_type": "code",
   "execution_count": 21,
   "id": "6dc08116",
   "metadata": {
    "execution": {
     "iopub.execute_input": "2025-03-07T15:03:49.136848Z",
     "iopub.status.busy": "2025-03-07T15:03:49.136474Z",
     "iopub.status.idle": "2025-03-07T15:03:49.146499Z",
     "shell.execute_reply": "2025-03-07T15:03:49.145604Z"
    },
    "papermill": {
     "duration": 0.025627,
     "end_time": "2025-03-07T15:03:49.148075",
     "exception": false,
     "start_time": "2025-03-07T15:03:49.122448",
     "status": "completed"
    },
    "tags": []
   },
   "outputs": [
    {
     "data": {
      "text/html": [
       "<div>\n",
       "<style scoped>\n",
       "    .dataframe tbody tr th:only-of-type {\n",
       "        vertical-align: middle;\n",
       "    }\n",
       "\n",
       "    .dataframe tbody tr th {\n",
       "        vertical-align: top;\n",
       "    }\n",
       "\n",
       "    .dataframe thead th {\n",
       "        text-align: right;\n",
       "    }\n",
       "</style>\n",
       "<table border=\"1\" class=\"dataframe\">\n",
       "  <thead>\n",
       "    <tr style=\"text-align: right;\">\n",
       "      <th></th>\n",
       "      <th>SalesPerson_Total</th>\n",
       "    </tr>\n",
       "    <tr>\n",
       "      <th>SalesPersonID</th>\n",
       "      <th></th>\n",
       "    </tr>\n",
       "  </thead>\n",
       "  <tbody>\n",
       "    <tr>\n",
       "      <th>17</th>\n",
       "      <td>1.863204e+08</td>\n",
       "    </tr>\n",
       "    <tr>\n",
       "      <th>10</th>\n",
       "      <td>1.872644e+08</td>\n",
       "    </tr>\n",
       "    <tr>\n",
       "      <th>3</th>\n",
       "      <td>1.875294e+08</td>\n",
       "    </tr>\n",
       "    <tr>\n",
       "      <th>11</th>\n",
       "      <td>1.875524e+08</td>\n",
       "    </tr>\n",
       "    <tr>\n",
       "      <th>1</th>\n",
       "      <td>1.876495e+08</td>\n",
       "    </tr>\n",
       "    <tr>\n",
       "      <th>16</th>\n",
       "      <td>1.877798e+08</td>\n",
       "    </tr>\n",
       "    <tr>\n",
       "      <th>2</th>\n",
       "      <td>1.878417e+08</td>\n",
       "    </tr>\n",
       "    <tr>\n",
       "      <th>9</th>\n",
       "      <td>1.878541e+08</td>\n",
       "    </tr>\n",
       "    <tr>\n",
       "      <th>15</th>\n",
       "      <td>1.879319e+08</td>\n",
       "    </tr>\n",
       "    <tr>\n",
       "      <th>23</th>\n",
       "      <td>1.880011e+08</td>\n",
       "    </tr>\n",
       "  </tbody>\n",
       "</table>\n",
       "</div>"
      ],
      "text/plain": [
       "               SalesPerson_Total\n",
       "SalesPersonID                   \n",
       "17                  1.863204e+08\n",
       "10                  1.872644e+08\n",
       "3                   1.875294e+08\n",
       "11                  1.875524e+08\n",
       "1                   1.876495e+08\n",
       "16                  1.877798e+08\n",
       "2                   1.878417e+08\n",
       "9                   1.878541e+08\n",
       "15                  1.879319e+08\n",
       "23                  1.880011e+08"
      ]
     },
     "execution_count": 21,
     "metadata": {},
     "output_type": "execute_result"
    }
   ],
   "source": [
    "sales_performance_total.sort_values(by = 'SalesPerson_Total', ascending = True).head(10)"
   ]
  },
  {
   "cell_type": "code",
   "execution_count": 22,
   "id": "15fb7ab0",
   "metadata": {
    "execution": {
     "iopub.execute_input": "2025-03-07T15:03:49.176174Z",
     "iopub.status.busy": "2025-03-07T15:03:49.175846Z",
     "iopub.status.idle": "2025-03-07T15:03:49.187256Z",
     "shell.execute_reply": "2025-03-07T15:03:49.186258Z"
    },
    "papermill": {
     "duration": 0.027306,
     "end_time": "2025-03-07T15:03:49.188942",
     "exception": false,
     "start_time": "2025-03-07T15:03:49.161636",
     "status": "completed"
    },
    "tags": []
   },
   "outputs": [
    {
     "name": "stdout",
     "output_type": "stream",
     "text": [
      "BEST PERFORMING EMPLOYEES:\n",
      "\n",
      " Darnell Nielsen\n",
      "Desiree Stuart\n",
      "Holly Collins\n",
      "Chadwick Cook\n",
      "Julie Dyer\n",
      "Katina Marks\n",
      "Wendi Buckley\n",
      "Shelby Riddle\n",
      "Devon Brewer\n",
      "Tonia Mc Millan\n",
      "\n",
      "\n",
      "WORST PERFORMING EMPLOYEES:\n",
      "\n",
      " Nicole Fuller\n",
      "Christine Palmer\n",
      "Pablo Cline\n",
      "Daphne King\n",
      "Jean Vang\n",
      "Sonya Dickson\n",
      "Kari Finley\n",
      "Chadwick Walton\n",
      "Seth Franco\n",
      "Janet Flowers\n"
     ]
    }
   ],
   "source": [
    "best_performers = [21, 20, 13, 5, 4, 14, 8, 7, 6, 22]\n",
    "best_peformers_names = '\\n'.join(list((employees[employees['EmployeeID'].isin(best_performers)]['FirstName'] + ' ' + employees[employees['EmployeeID'].isin(best_performers)]['LastName']).values))\n",
    "\n",
    "worst_performers = [17, 10, 3, 11, 1, 16, 2, 9, 15, 23]\n",
    "worst_peformers_names = '\\n'.join(list((employees[employees['EmployeeID'].isin(worst_performers)]['FirstName'] + ' ' + employees[employees['EmployeeID'].isin(worst_performers)]['LastName']).values))\n",
    "\n",
    "print('BEST PERFORMING EMPLOYEES:\\n\\n', best_peformers_names)\n",
    "print('\\n')\n",
    "print('WORST PERFORMING EMPLOYEES:\\n\\n', worst_peformers_names)"
   ]
  },
  {
   "cell_type": "markdown",
   "id": "d872bcef",
   "metadata": {
    "papermill": {
     "duration": 0.013873,
     "end_time": "2025-03-07T15:03:49.216597",
     "exception": false,
     "start_time": "2025-03-07T15:03:49.202724",
     "status": "completed"
    },
    "tags": []
   },
   "source": [
    "<h3>Monthly sales for top 3 salespersons</h3>"
   ]
  },
  {
   "cell_type": "markdown",
   "id": "234849c6",
   "metadata": {
    "papermill": {
     "duration": 0.013374,
     "end_time": "2025-03-07T15:03:49.243519",
     "exception": false,
     "start_time": "2025-03-07T15:03:49.230145",
     "status": "completed"
    },
    "tags": []
   },
   "source": [
    "We first compute the sales total for each month and for each salesperson"
   ]
  },
  {
   "cell_type": "code",
   "execution_count": 23,
   "id": "55f77839",
   "metadata": {
    "execution": {
     "iopub.execute_input": "2025-03-07T15:03:49.272339Z",
     "iopub.status.busy": "2025-03-07T15:03:49.271899Z",
     "iopub.status.idle": "2025-03-07T15:03:50.467156Z",
     "shell.execute_reply": "2025-03-07T15:03:50.466062Z"
    },
    "papermill": {
     "duration": 1.212009,
     "end_time": "2025-03-07T15:03:50.469066",
     "exception": false,
     "start_time": "2025-03-07T15:03:49.257057",
     "status": "completed"
    },
    "tags": []
   },
   "outputs": [
    {
     "data": {
      "text/html": [
       "<div>\n",
       "<style scoped>\n",
       "    .dataframe tbody tr th:only-of-type {\n",
       "        vertical-align: middle;\n",
       "    }\n",
       "\n",
       "    .dataframe tbody tr th {\n",
       "        vertical-align: top;\n",
       "    }\n",
       "\n",
       "    .dataframe thead th {\n",
       "        text-align: right;\n",
       "    }\n",
       "</style>\n",
       "<table border=\"1\" class=\"dataframe\">\n",
       "  <thead>\n",
       "    <tr style=\"text-align: right;\">\n",
       "      <th></th>\n",
       "      <th></th>\n",
       "      <th>SalesTotal</th>\n",
       "    </tr>\n",
       "    <tr>\n",
       "      <th>SalesPersonID</th>\n",
       "      <th>SalesDate</th>\n",
       "      <th></th>\n",
       "    </tr>\n",
       "  </thead>\n",
       "  <tbody>\n",
       "    <tr>\n",
       "      <th rowspan=\"5\" valign=\"top\">1</th>\n",
       "      <th>1.0</th>\n",
       "      <td>4.440425e+07</td>\n",
       "    </tr>\n",
       "    <tr>\n",
       "      <th>2.0</th>\n",
       "      <td>4.037888e+07</td>\n",
       "    </tr>\n",
       "    <tr>\n",
       "      <th>3.0</th>\n",
       "      <td>4.494872e+07</td>\n",
       "    </tr>\n",
       "    <tr>\n",
       "      <th>4.0</th>\n",
       "      <td>4.290905e+07</td>\n",
       "    </tr>\n",
       "    <tr>\n",
       "      <th>5.0</th>\n",
       "      <td>1.312080e+07</td>\n",
       "    </tr>\n",
       "  </tbody>\n",
       "</table>\n",
       "</div>"
      ],
      "text/plain": [
       "                           SalesTotal\n",
       "SalesPersonID SalesDate              \n",
       "1             1.0        4.440425e+07\n",
       "              2.0        4.037888e+07\n",
       "              3.0        4.494872e+07\n",
       "              4.0        4.290905e+07\n",
       "              5.0        1.312080e+07"
      ]
     },
     "execution_count": 23,
     "metadata": {},
     "output_type": "execute_result"
    }
   ],
   "source": [
    "salespersons = sales_full.copy()\n",
    "salespersons['SalesDate'] = salespersons['SalesDate'].dt.month\n",
    "salespersons = salespersons.groupby(['SalesPersonID', 'SalesDate']).agg({'SalesTotal' : 'sum'})\n",
    "salespersons.head()"
   ]
  },
  {
   "cell_type": "markdown",
   "id": "0708248d",
   "metadata": {
    "papermill": {
     "duration": 0.013353,
     "end_time": "2025-03-07T15:03:50.496268",
     "exception": false,
     "start_time": "2025-03-07T15:03:50.482915",
     "status": "completed"
    },
    "tags": []
   },
   "source": [
    "and then select only the first three IDs of the best_performes list:"
   ]
  },
  {
   "cell_type": "code",
   "execution_count": 24,
   "id": "8aa063f5",
   "metadata": {
    "execution": {
     "iopub.execute_input": "2025-03-07T15:03:50.524764Z",
     "iopub.status.busy": "2025-03-07T15:03:50.524392Z",
     "iopub.status.idle": "2025-03-07T15:03:50.536362Z",
     "shell.execute_reply": "2025-03-07T15:03:50.535291Z"
    },
    "papermill": {
     "duration": 0.028019,
     "end_time": "2025-03-07T15:03:50.537923",
     "exception": false,
     "start_time": "2025-03-07T15:03:50.509904",
     "status": "completed"
    },
    "tags": []
   },
   "outputs": [
    {
     "data": {
      "text/html": [
       "<div>\n",
       "<style scoped>\n",
       "    .dataframe tbody tr th:only-of-type {\n",
       "        vertical-align: middle;\n",
       "    }\n",
       "\n",
       "    .dataframe tbody tr th {\n",
       "        vertical-align: top;\n",
       "    }\n",
       "\n",
       "    .dataframe thead th {\n",
       "        text-align: right;\n",
       "    }\n",
       "</style>\n",
       "<table border=\"1\" class=\"dataframe\">\n",
       "  <thead>\n",
       "    <tr style=\"text-align: right;\">\n",
       "      <th></th>\n",
       "      <th>SalesPersonID</th>\n",
       "      <th>SalesDate</th>\n",
       "      <th>SalesTotal</th>\n",
       "    </tr>\n",
       "  </thead>\n",
       "  <tbody>\n",
       "    <tr>\n",
       "      <th>0</th>\n",
       "      <td>13</td>\n",
       "      <td>1.0</td>\n",
       "      <td>4.511062e+07</td>\n",
       "    </tr>\n",
       "    <tr>\n",
       "      <th>1</th>\n",
       "      <td>13</td>\n",
       "      <td>2.0</td>\n",
       "      <td>4.046347e+07</td>\n",
       "    </tr>\n",
       "    <tr>\n",
       "      <th>2</th>\n",
       "      <td>13</td>\n",
       "      <td>3.0</td>\n",
       "      <td>4.514653e+07</td>\n",
       "    </tr>\n",
       "    <tr>\n",
       "      <th>3</th>\n",
       "      <td>13</td>\n",
       "      <td>4.0</td>\n",
       "      <td>4.358408e+07</td>\n",
       "    </tr>\n",
       "    <tr>\n",
       "      <th>4</th>\n",
       "      <td>13</td>\n",
       "      <td>5.0</td>\n",
       "      <td>1.313308e+07</td>\n",
       "    </tr>\n",
       "  </tbody>\n",
       "</table>\n",
       "</div>"
      ],
      "text/plain": [
       "   SalesPersonID  SalesDate    SalesTotal\n",
       "0             13        1.0  4.511062e+07\n",
       "1             13        2.0  4.046347e+07\n",
       "2             13        3.0  4.514653e+07\n",
       "3             13        4.0  4.358408e+07\n",
       "4             13        5.0  1.313308e+07"
      ]
     },
     "execution_count": 24,
     "metadata": {},
     "output_type": "execute_result"
    }
   ],
   "source": [
    "topsalespersons = salespersons.iloc[salespersons.index.get_level_values(0).isin(best_performers[:3])]\n",
    "#We still reset the index to create the month column \n",
    "topsalespersons_wide = topsalespersons.reset_index()\n",
    "topsalespersons_wide.head()"
   ]
  },
  {
   "cell_type": "code",
   "execution_count": 25,
   "id": "585cfff2",
   "metadata": {
    "execution": {
     "iopub.execute_input": "2025-03-07T15:03:50.566848Z",
     "iopub.status.busy": "2025-03-07T15:03:50.566437Z",
     "iopub.status.idle": "2025-03-07T15:03:50.913044Z",
     "shell.execute_reply": "2025-03-07T15:03:50.911954Z"
    },
    "papermill": {
     "duration": 0.36297,
     "end_time": "2025-03-07T15:03:50.914810",
     "exception": false,
     "start_time": "2025-03-07T15:03:50.551840",
     "status": "completed"
    },
    "tags": []
   },
   "outputs": [
    {
     "data": {
      "image/png": "[encoded data removed]",
      "text/plain": [
       "<Figure size 1500x1200 with 1 Axes>"
      ]
     },
     "metadata": {},
     "output_type": "display_data"
    }
   ],
   "source": [
    "warnings.simplefilter('ignore')\n",
    "_, ax = plt.subplots(figsize = (15, 12))\n",
    "sns.barplot(x = topsalespersons_wide['SalesDate'], y = topsalespersons_wide['SalesTotal'], hue = topsalespersons_wide['SalesPersonID'] , ax = ax)\n",
    "plt.xticks(ticks = [0, 1, 2, 3, 4], labels = ['Jan', 'Feb', 'Mar', 'Apr', 'May'])\n",
    "plt.title('Top 3 Salesperson total sales by month'.upper())\n",
    "plt.show()"
   ]
  }
 ],
 "metadata": {
  "kaggle": {
   "accelerator": "none",
   "dataSources": [
    {
     "datasetId": 6580985,
     "sourceId": 10629628,
     "sourceType": "datasetVersion"
    }
   ],
   "dockerImageVersionId": 30918,
   "isGpuEnabled": false,
   "isInternetEnabled": true,
   "language": "python",
   "sourceType": "notebook"
  },
  "kernelspec": {
   "display_name": "Python 3",
   "language": "python",
   "name": "python3"
  },
  "language_info": {
   "codemirror_mode": {
    "name": "ipython",
    "version": 3
   },
   "file_extension": ".py",
   "mimetype": "text/x-python",
   "name": "python",
   "nbconvert_exporter": "python",
   "pygments_lexer": "ipython3",
   "version": "3.10.12"
  },
  "papermill": {
   "default_parameters": {},
   "duration": 65.598201,
   "end_time": "2025-03-07T15:03:51.851321",
   "environment_variables": {},
   "exception": null,
   "input_path": "__notebook__.ipynb",
   "output_path": "__notebook__.ipynb",
   "parameters": {},
   "start_time": "2025-03-07T15:02:46.253120",
   "version": "2.6.0"
  }
 },
 "nbformat": 4,
 "nbformat_minor": 5
}
